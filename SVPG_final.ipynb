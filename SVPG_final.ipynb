{
  "nbformat": 4,
  "nbformat_minor": 0,
  "metadata": {
    "colab": {
      "provenance": [],
      "collapsed_sections": [
        "evgBfaxpB4XL",
        "P_MD3Ks_ErhT",
        "IiEvybntBy0Y",
        "CXkiCsGvDvTg",
        "GvbS0o25dSE_"
      ],
      "mount_file_id": "1I11xdeQ83bPK_vfetZo7jR5lmnaQtfyw",
      "authorship_tag": "ABX9TyP11MtHIA1c9bWZABbsBacS",
      "include_colab_link": true
    },
    "kernelspec": {
      "name": "python3",
      "display_name": "Python 3"
    },
    "language_info": {
      "name": "python"
    }
  },
  "cells": [
    {
      "cell_type": "markdown",
      "metadata": {
        "id": "view-in-github",
        "colab_type": "text"
      },
      "source": [
        "<a href=\"https://colab.research.google.com/github/lhalgryn/Stein-Variational-Gradient-Descent/blob/master/SVPG_final.ipynb\" target=\"_parent\"><img src=\"https://colab.research.google.com/assets/colab-badge.svg\" alt=\"Open In Colab\"/></a>"
      ]
    },
    {
      "cell_type": "code",
      "source": [
        "# For classic control problems\n",
        "!pip install gymnasium"
      ],
      "metadata": {
        "colab": {
          "base_uri": "https://localhost:8080/"
        },
        "id": "HTSTMqxEBcaP",
        "outputId": "94b5924a-9b72-4368-9737-19b96e487654"
      },
      "execution_count": 1,
      "outputs": [
        {
          "output_type": "stream",
          "name": "stdout",
          "text": [
            "Collecting gymnasium\n",
            "  Downloading gymnasium-0.29.1-py3-none-any.whl (953 kB)\n",
            "\u001b[?25l     \u001b[90m━━━━━━━━━━━━━━━━━━━━━━━━━━━━━━━━━━━━━━━━\u001b[0m \u001b[32m0.0/953.9 kB\u001b[0m \u001b[31m?\u001b[0m eta \u001b[36m-:--:--\u001b[0m\r\u001b[2K     \u001b[91m━━━━━━━━━━\u001b[0m\u001b[91m╸\u001b[0m\u001b[90m━━━━━━━━━━━━━━━━━━━━━━━━━━━━━\u001b[0m \u001b[32m256.0/953.9 kB\u001b[0m \u001b[31m7.6 MB/s\u001b[0m eta \u001b[36m0:00:01\u001b[0m\r\u001b[2K     \u001b[90m━━━━━━━━━━━━━━━━━━━━━━━━━━━━━━━━━━━━━━━━\u001b[0m \u001b[32m953.9/953.9 kB\u001b[0m \u001b[31m15.5 MB/s\u001b[0m eta \u001b[36m0:00:00\u001b[0m\n",
            "\u001b[?25hRequirement already satisfied: numpy>=1.21.0 in /usr/local/lib/python3.10/dist-packages (from gymnasium) (1.23.5)\n",
            "Requirement already satisfied: cloudpickle>=1.2.0 in /usr/local/lib/python3.10/dist-packages (from gymnasium) (2.2.1)\n",
            "Requirement already satisfied: typing-extensions>=4.3.0 in /usr/local/lib/python3.10/dist-packages (from gymnasium) (4.5.0)\n",
            "Collecting farama-notifications>=0.0.1 (from gymnasium)\n",
            "  Downloading Farama_Notifications-0.0.4-py3-none-any.whl (2.5 kB)\n",
            "Installing collected packages: farama-notifications, gymnasium\n",
            "Successfully installed farama-notifications-0.0.4 gymnasium-0.29.1\n"
          ]
        }
      ]
    },
    {
      "cell_type": "code",
      "source": [
        "# for LunarLander\n",
        "!pip install -q swig\n",
        "!pip install -q gymnasium[box2d]"
      ],
      "metadata": {
        "id": "ZFbgatfFcck-",
        "colab": {
          "base_uri": "https://localhost:8080/"
        },
        "outputId": "d8ad3d8a-f636-4cf0-be5c-b8302b061a98"
      },
      "execution_count": null,
      "outputs": [
        {
          "output_type": "stream",
          "name": "stdout",
          "text": [
            "\u001b[2K     \u001b[90m━━━━━━━━━━━━━━━━━━━━━━━━━━━━━━━━━━━━━━━━\u001b[0m \u001b[32m1.8/1.8 MB\u001b[0m \u001b[31m10.8 MB/s\u001b[0m eta \u001b[36m0:00:00\u001b[0m\n",
            "\u001b[2K     \u001b[90m━━━━━━━━━━━━━━━━━━━━━━━━━━━━━━━━━━━━━━━━\u001b[0m \u001b[32m953.9/953.9 kB\u001b[0m \u001b[31m5.2 MB/s\u001b[0m eta \u001b[36m0:00:00\u001b[0m\n",
            "\u001b[2K     \u001b[90m━━━━━━━━━━━━━━━━━━━━━━━━━━━━━━━━━━━━━━━━\u001b[0m \u001b[32m374.4/374.4 kB\u001b[0m \u001b[31m16.9 MB/s\u001b[0m eta \u001b[36m0:00:00\u001b[0m\n",
            "\u001b[?25h  Preparing metadata (setup.py) ... \u001b[?25l\u001b[?25hdone\n",
            "  Building wheel for box2d-py (setup.py) ... \u001b[?25l\u001b[?25hdone\n"
          ]
        }
      ]
    },
    {
      "cell_type": "code",
      "source": [
        "import numpy as np\n",
        "import torch\n",
        "import gymnasium as gym\n",
        "from torch import optim\n",
        "from tqdm import tqdm\n",
        "import matplotlib.pyplot as plt\n",
        "import torch.nn as nn\n",
        "from torch.nn import functional as F\n",
        "from torch.distributions import Categorical\n",
        "from torch import autograd\n",
        "from scipy.spatial.distance import squareform, pdist\n",
        "from functools import partial\n",
        "import math"
      ],
      "metadata": {
        "id": "0on0sOGMBZ2c"
      },
      "execution_count": 2,
      "outputs": []
    },
    {
      "cell_type": "markdown",
      "source": [
        "# Algorithms"
      ],
      "metadata": {
        "id": "iIunDga8BwlI"
      }
    },
    {
      "cell_type": "markdown",
      "source": [
        "## Class to implement NN policy"
      ],
      "metadata": {
        "id": "evgBfaxpB4XL"
      }
    },
    {
      "cell_type": "code",
      "source": [
        "class Policy(torch.nn.Module):\n",
        "    \"\"\"\n",
        "    Class to implement policy function approximation for SVPG-REINFORCE\n",
        "\n",
        "    Attributes:\n",
        "        - input_dim (int): dimension of state space\n",
        "        - output_dim (int): dimension of action space\n",
        "        - n_hidden (int): number of neurons for hidden layer\n",
        "        - log_probs (list): list of log pi(a | s) for actions taken during an episode\n",
        "        - rewards (list): list of rewards received during an episode\n",
        "\n",
        "    Methods:\n",
        "        - forward(state): forward pass of policy network for arg state\n",
        "        - take_action(state): function to take action and record log_prob of action under policy\n",
        "        - discount_rewards(gamma): function to discount rewards received during an episode\n",
        "        - clear(): function to clear the log_probs and rewards lists after end of an episode\n",
        "        - _flatten_parameters_and_grads(): function to convert parameters and their grads of policy network to a vector.\n",
        "                                            This is needed to calculate the gram matrix in SVPG.\n",
        "        - _assign_grads(): function to unflatten and assign the gradients calculated to the corresponding parameters.\n",
        "                            This is needed because we flattened the parameters using the above method.\n",
        "    \"\"\"\n",
        "    def __init__(self, input_dim, output_dim, n_hidden=128, policy=None):\n",
        "        super(Policy, self).__init__()\n",
        "        if policy is None:\n",
        "            self.policy = nn.Sequential(\n",
        "                nn.Linear(input_dim, n_hidden),\n",
        "                nn.ReLU(),\n",
        "                nn.Linear(n_hidden, output_dim),\n",
        "                nn.Softmax(dim=-1)\n",
        "            )\n",
        "        else:\n",
        "            self.policy = policy\n",
        "        # self.policy = nn.Sequential(\n",
        "        #     nn.Linear(input_dim, 32),\n",
        "        #     nn.ReLU(),\n",
        "        #     nn.Linear(32, 64),\n",
        "        #     nn.ReLU(),\n",
        "        #     nn.Linear(64, 128),\n",
        "        #     nn.ReLU(),\n",
        "        #     nn.Linear(128, output_dim),\n",
        "        #     nn.Softmax(dim=-1)\n",
        "\n",
        "        # )\n",
        "\n",
        "        for par in self.policy.parameters():\n",
        "            par.requires_grad = True\n",
        "        self.log_probs = []\n",
        "        self.log_probs_temp = []\n",
        "        self.rewards_temp = []\n",
        "        self.rewards = []\n",
        "\n",
        "    def forward(self, state):\n",
        "        return self.policy(state)\n",
        "\n",
        "    def take_action(self, state):\n",
        "        probs = self.forward(state)\n",
        "        action_dist = Categorical(probs)\n",
        "        action = action_dist.sample()\n",
        "        log_pi = action_dist.log_prob(action)\n",
        "        self.log_probs_temp.append(log_pi)\n",
        "        return action.detach().item()\n",
        "\n",
        "    def discount_rewards(self, gamma):\n",
        "        discounted_rewards = torch.zeros_like(torch.tensor(self.rewards))\n",
        "        running_reward = 0\n",
        "        for t in reversed(range(len(self.rewards))):\n",
        "            running_reward = running_reward * gamma + self.rewards[t]\n",
        "            discounted_rewards[t] = running_reward\n",
        "        mu = torch.mean(discounted_rewards)\n",
        "        std = torch.std(discounted_rewards)\n",
        "        discounted_rewards = (discounted_rewards - mu) / (std + 1e-12) # standardize rewards to reduce variance\n",
        "        return discounted_rewards\n",
        "\n",
        "    def clear(self, all=False):\n",
        "        self.log_probs_temp = []\n",
        "        self.rewards_temp = []\n",
        "        self.phi = None\n",
        "        if all:\n",
        "            self.rewards = []\n",
        "            self.log_probs = []\n",
        "\n",
        "    def _flatten_parameters_and_grads(self):\n",
        "        par_vec = []\n",
        "        grad_vec = []\n",
        "        parameters = self.policy.parameters()\n",
        "        for par in parameters:\n",
        "            par_vec.append(par.view(-1))\n",
        "            grad_vec.append(par.grad.detach().view(-1))\n",
        "        return torch.cat(par_vec), torch.cat(grad_vec)\n",
        "\n",
        "    def _assign_grads(self, grad_vec):\n",
        "        counter = 0\n",
        "        for par in self.policy.parameters():\n",
        "            n_parameters = torch.prod(torch.LongTensor(list(par.size())))\n",
        "            par.grad.data = grad_vec[counter:counter+n_parameters].view(par.size())\n",
        "            counter += n_parameters\n",
        "\n",
        "    def evaluate_policy(self, n_eval_episodes, max_steps, env_name):\n",
        "        env = gym.make(env_name)\n",
        "        total_rewards = []\n",
        "        for e in tqdm(range(n_eval_episodes)):\n",
        "            state, _ = env.reset()\n",
        "            ep_reward = 0\n",
        "            for t in range(max_steps):\n",
        "                probs = self.policy(torch.tensor(state, dtype=torch.float32))\n",
        "                a = torch.argmax(probs)\n",
        "                new_state, reward, done, trunc, _ = env.step(a.item())\n",
        "                ep_reward += reward\n",
        "                state = new_state\n",
        "                if done or trunc:\n",
        "                    break\n",
        "            total_rewards.append(ep_reward)\n",
        "        return np.mean(total_rewards)\n"
      ],
      "metadata": {
        "id": "UGu5HgQ4JNIp"
      },
      "execution_count": 3,
      "outputs": []
    },
    {
      "cell_type": "markdown",
      "source": [
        "## REINFORCE"
      ],
      "metadata": {
        "id": "RjAi6eMOD6KN"
      }
    },
    {
      "cell_type": "code",
      "source": [
        "class REINFORCE:\n",
        "    \"\"\"\n",
        "    Class to implement REINFORCE-Independent as in https://arxiv.org/abs/1704.02399\n",
        "\n",
        "    Attributes:\n",
        "        - gamma (float): discount factor in [0, 1)\n",
        "        - alpha (float): temperature parameter\n",
        "        - gym_env_name (string): name of gym environment (e.g., \"Cartpole-v1\", \"MountainCar-v0\", \"Acrobat-v1\")\n",
        "        - n_particles (int): number of particles (policies) for SVPG\n",
        "        - max_episodes (int): max number of training episodes #TODO: convergence checks for early stopping\n",
        "        - max_steps (int): max number of steps in an episode (depends on environment; e.g., 500 for Cartpole-v1)\n",
        "        - learning_rate (float): initial learning rate for SVPG algorithm (initial because algo uses adaptive step sizes with Adam)\n",
        "        - best_policy (object of class Policy): policy that yields best evaluation performance\n",
        "        - num_rollouts (int): number of rollout trajectories to calculate policy gradients\n",
        "\n",
        "    Methods:\n",
        "        - _get_gram_matrix_and_grad(X, sigma): function to calculate gram matrix and gradients w.r.t X (particle matrix)\n",
        "        - _update(): function to implement an SVPG descent step on each particle using the log_probs and rewards history\n",
        "        - train(): function to train the policies using _update after each episode\n",
        "        - evaluate_policies(): function to evaluate each of the trained policies and set the best_policy attribute\n",
        "        - evaluate_ensemble_policy(): function to evaluate naive Bayes ensemble policy\n",
        "    \"\"\"\n",
        "\n",
        "    def __init__(self, gamma, gym_env_name, n_particles, max_episodes, max_steps, learning_rate, n_hidden=128, num_rollouts=1, base_policy=None):\n",
        "        self.gamma = gamma\n",
        "        self.n_particles = n_particles\n",
        "        self.max_episodes = max_episodes\n",
        "        self.max_steps = max_steps\n",
        "        self.learning_rate = learning_rate\n",
        "        self.n_rollouts = num_rollouts\n",
        "        self.particles = []\n",
        "        self.optimizers = []\n",
        "        self.best_policy = None\n",
        "        self.rewards_per_step = []\n",
        "        self.rewards_per_episode = []\n",
        "        self.envs = []\n",
        "        self.env_name = gym_env_name\n",
        "        env = gym.make(gym_env_name)\n",
        "        self.n_states = env.observation_space.shape[0]\n",
        "        self.n_actions = env.action_space.n\n",
        "        for _ in range(self.n_particles):\n",
        "            self.envs.append(env)\n",
        "            policy = Policy(input_dim=self.n_states, output_dim=self.n_actions, n_hidden=n_hidden, policy=base_policy)\n",
        "            optimizer = optim.Adam(policy.parameters(), lr=learning_rate)\n",
        "            # optimizer = optim.Adagrad(policy.parameters(), lr=learning_rate)\n",
        "            self.particles.append(policy)\n",
        "            self.optimizers.append(optimizer)\n",
        "\n",
        "    def discount_rewards(self, rewards, gamma):\n",
        "        discounted_rewards = torch.zeros_like(rewards)\n",
        "        running_reward = 0\n",
        "        for t in reversed(range(len(rewards))):\n",
        "            running_reward = running_reward * gamma + rewards[t]\n",
        "            discounted_rewards[t] = running_reward\n",
        "        return discounted_rewards\n",
        "\n",
        "    def train(self):\n",
        "        total_rewards = []\n",
        "        eps_completed = []\n",
        "        avg_reward_per_episode = []\n",
        "        for e in tqdm(range(self.max_episodes)):\n",
        "            episode_rewards = []\n",
        "            for i, env in enumerate(self.envs):\n",
        "                overall_grad = 0\n",
        "                for j in range(self.n_rollouts):\n",
        "                    self.particles[i].clear(all=True)\n",
        "                    state, _ = env.reset(seed=i*e) # same seed in each rollout, but different in each episode of training\n",
        "                    for t in range(self.max_steps):\n",
        "                        a = self.particles[i].take_action(torch.tensor(state))\n",
        "                        new_state, reward, done, trunc, _ = env.step(a)\n",
        "                        self.particles[i].rewards.append(reward)\n",
        "                        state = new_state\n",
        "                        if done or trunc:\n",
        "                            break\n",
        "\n",
        "                    episode_reward = sum(self.particles[i].rewards)\n",
        "                    episode_rewards.append(episode_reward)\n",
        "                    discounted_rewards = self.particles[i].discount_rewards(self.gamma)\n",
        "                    policy_grad = []\n",
        "                    for log_pi, r in zip(self.particles[i].log_probs_temp, discounted_rewards):\n",
        "                        policy_grad.append(log_pi * r)\n",
        "                    overall_grad += sum(policy_grad)\n",
        "\n",
        "                self.optimizers[i].zero_grad()\n",
        "                loss = - overall_grad / self.n_rollouts\n",
        "                loss.backward()\n",
        "                self.optimizers[i].step()\n",
        "                self.particles[i].clear(all=True)\n",
        "            avg_reward_per_episode.append(np.mean(episode_rewards))\n",
        "\n",
        "        return avg_reward_per_episode\n",
        "\n",
        "\n",
        "    def evaluate_policies(self, n_eval_episodes, max_steps):\n",
        "        best_idx = None\n",
        "        best_reward = -torch.inf\n",
        "        average_rewards = []\n",
        "        for i in tqdm(range(self.n_particles)):\n",
        "            total_rewards = []\n",
        "            env = self.envs[i]\n",
        "            policy = self.particles[i]\n",
        "            policy.clear(all=True)\n",
        "            for e in range(n_eval_episodes):\n",
        "                state, _ = env.reset()\n",
        "                rewards = []\n",
        "                for t in range(max_steps):\n",
        "                    probs = policy(torch.tensor(state, dtype=torch.float32))\n",
        "                    a = torch.argmax(probs)\n",
        "                    new_state, reward, done, trunc, _ = env.step(a.item())\n",
        "                    rewards.append(reward)\n",
        "                    state = new_state\n",
        "                    if done or trunc:\n",
        "                        break\n",
        "                total_rewards.append(np.sum(rewards))\n",
        "            agent_reward = np.mean(total_rewards)\n",
        "            average_rewards.append(agent_reward)\n",
        "            if agent_reward > best_reward:\n",
        "                best_reward = agent_reward\n",
        "                best_idx = i\n",
        "        self.best_policy = self.particles[best_idx]\n",
        "        return average_rewards\n",
        "\n",
        "    def evaluate_ensemble_policy(self, eval_episodes):\n",
        "        test_env = gym.make(self.env_name)\n",
        "        rewards = []\n",
        "        episode_rewards = []\n",
        "        for e in tqdm(range(eval_episodes)):\n",
        "            state, _ = test_env.reset(seed=e)\n",
        "            for i, env in enumerate(self.envs):\n",
        "                _, _ = env.reset(seed=e)\n",
        "            ep_reward = 0\n",
        "            for t in range(self.max_steps):\n",
        "                max_probs = []\n",
        "                max_actions = []\n",
        "                for i, env in enumerate(self.envs):\n",
        "                    policy = self.particles[i]\n",
        "                    probs = policy(torch.tensor(state, dtype=torch.float32))\n",
        "                    p = torch.max(probs)\n",
        "                    max_probs.append(p.item())\n",
        "                    a = torch.argmax(probs)\n",
        "                    max_actions.append(a.item())\n",
        "                max_idx = np.argmax(max_probs)\n",
        "                a = max_actions[max_idx]\n",
        "                for i, env in enumerate(self.envs):\n",
        "                    _, _, done, trunc, _ = env.step(a)\n",
        "                    if done or trunc:\n",
        "                        _, _ = env.reset()\n",
        "                new_state, reward, done, trunc, _ = test_env.step(a)\n",
        "                # rewards.append(reward)\n",
        "                ep_reward += reward\n",
        "                state = new_state\n",
        "                if done or trunc:\n",
        "                    break\n",
        "            episode_rewards.append(ep_reward)\n",
        "        return episode_rewards"
      ],
      "metadata": {
        "id": "TFzrLjAvD7Pc"
      },
      "execution_count": 4,
      "outputs": []
    },
    {
      "cell_type": "markdown",
      "source": [
        "## Vanilla SVPG"
      ],
      "metadata": {
        "id": "P_MD3Ks_ErhT"
      }
    },
    {
      "cell_type": "code",
      "source": [
        "class SVPG_REINFORCE:\n",
        "    \"\"\"\n",
        "    Class to implement SVPG REINFORCE\n",
        "\n",
        "    Attributes:\n",
        "        - gamma (float): discount factor in [0, 1)\n",
        "        - alpha (float): temperature parameter\n",
        "        - gym_env_name (string): name of gym environment (e.g., \"Cartpole-v1\", \"MountainCar-v0\", \"Acrobat-v1\")\n",
        "        - n_particles (int): number of particles (policies) for SVPG\n",
        "        - max_episodes (int): max number of training episodes #TODO: convergence checks for early stopping\n",
        "        - max_steps (int): max number of steps in an episode (depends on environment; e.g., 500 for Cartpole-v1)\n",
        "        - learning_rate (float): initial learning rate for SVPG algorithm (initial because algo uses adaptive step sizes with Adam)\n",
        "        - best_policy (object of class Policy): policy that yields best evaluation performance\n",
        "\n",
        "    Methods:\n",
        "        - _get_gram_matrix_and_grad(X, sigma): function to calculate gram matrix and gradients w.r.t X (particle matrix)\n",
        "        - _update(): function to implement an SVPG descent step on each particle using the log_probs and rewards history\n",
        "        - train(): function to train the policies using _update after each episode\n",
        "        - evaluate_policies(): function to evaluate each of the trained policies and set the best_policy attribute\n",
        "    \"\"\"\n",
        "\n",
        "    def __init__(self, gamma, alpha, gym_env_name, n_particles, max_episodes, max_steps, learning_rate, n_hidden=128, decay=0.99, num_rollouts=1, base_policy=None):\n",
        "        self.gamma = gamma\n",
        "        self.alpha = alpha\n",
        "        self.n_particles = n_particles\n",
        "        self.max_episodes = max_episodes\n",
        "        self.max_steps = max_steps\n",
        "        self.learning_rate = learning_rate\n",
        "        self.n_rollouts = num_rollouts\n",
        "        self.logq0 = 1.0 # flat improper prior as used in the SVPG paper\n",
        "        self.decay = decay # To decay temperature alpha over training episodes\n",
        "        self.particles = []\n",
        "        self.optimizers = []\n",
        "        self.best_policy = None\n",
        "        self.envs = []\n",
        "        self.env_name = gym_env_name\n",
        "        env = gym.make(gym_env_name)\n",
        "        self.n_states = env.observation_space.shape[0]\n",
        "        self.n_actions = env.action_space.n\n",
        "        for _ in range(self.n_particles):\n",
        "            self.envs.append(env)\n",
        "            policy = Policy(input_dim=self.n_states, output_dim=self.n_actions, n_hidden=n_hidden, policy=base_policy)\n",
        "            optimizer = optim.Adam(policy.parameters(), lr=learning_rate)\n",
        "            # optimizer = optim.Adagrad(policy.parameters(), lr=learning_rate)\n",
        "            self.particles.append(policy)\n",
        "            self.optimizers.append(optimizer)\n",
        "\n",
        "    def discount_rewards(self, rewards):\n",
        "        discounted_rewards = torch.zeros_like(torch.tensor(rewards))\n",
        "        running_reward = 0\n",
        "        for t in reversed(range(len(rewards))):\n",
        "            running_reward = running_reward * self.gamma + rewards[t]\n",
        "            discounted_rewards[t] = running_reward\n",
        "        mu = torch.mean(discounted_rewards)\n",
        "        std = torch.std(discounted_rewards)\n",
        "        discounted_rewards = (discounted_rewards - mu) / (std + 1e-12) # standardize rewards to reduce variance\n",
        "        return discounted_rewards\n",
        "\n",
        "\n",
        "    def _get_gram_matrix_and_grad(self, X, sigma=None):\n",
        "        X_np = X.data.numpy()\n",
        "        pairwise_distances = squareform(pdist(X_np)) ** 2\n",
        "        if sigma is None:\n",
        "            med = np.median(pairwise_distances)\n",
        "            sigma = np.sqrt(0.5 * med / np.log(self.n_particles + 1))\n",
        "\n",
        "        pairwise_distances = torch.tensor(pairwise_distances, dtype=torch.float32)\n",
        "        K = torch.exp(- pairwise_distances / (2 * sigma**2)) # gram matrix\n",
        "        dK = -K.matmul(X)\n",
        "        dK_sum = dK.sum(dim=1)\n",
        "        for i in range(X.shape[1]):\n",
        "            dK[:, i] = dK[:, i] + X[:, i].matmul(dK_sum)\n",
        "        dK /= (sigma**2)\n",
        "\n",
        "        return K, dK\n",
        "\n",
        "    def _update(self):\n",
        "        policy_grads = []\n",
        "        parameters = []\n",
        "        for i in range(self.n_particles):\n",
        "            policy = self.particles[i]\n",
        "            optimizer = self.optimizers[i]\n",
        "            overall_loss = 0\n",
        "            for j in range(self.n_rollouts):\n",
        "                policy_grad = []\n",
        "                G = self.discount_rewards(policy.rewards[j])\n",
        "                for log_pi, r in zip(policy.log_probs[j], G):\n",
        "                    policy_grad.append(log_pi * r)\n",
        "\n",
        "                policy_loss = sum(policy_grad)\n",
        "                overall_loss += policy_loss\n",
        "\n",
        "            optimizer.zero_grad()\n",
        "            loss = overall_loss / self.n_rollouts\n",
        "            loss.backward()\n",
        "            p_vec, g_vec = policy._flatten_parameters_and_grads()\n",
        "            policy_grads.append(g_vec.unsqueeze(0))\n",
        "            parameters.append(p_vec.unsqueeze(0))\n",
        "\n",
        "        parameters = torch.cat(parameters)\n",
        "        K, dK = self._get_gram_matrix_and_grad(parameters)\n",
        "        policy_grads = (1.0 / self.alpha + self.logq0) * torch.cat(policy_grads)\n",
        "        grad_logp = torch.mm(K, policy_grads)\n",
        "        phi = - (grad_logp + dK) / self.n_particles\n",
        "\n",
        "        for i in range(self.n_particles):\n",
        "            policy = self.particles[i]\n",
        "            policy._assign_grads(phi[i])\n",
        "            self.optimizers[i].step()\n",
        "            self.particles[i].clear(all=True)\n",
        "\n",
        "    def train(self):\n",
        "        avg_reward_per_episode = []\n",
        "        for e in tqdm(range(self.max_episodes)):\n",
        "            episode_rewards = []\n",
        "            for i, env in enumerate(self.envs):\n",
        "                for j in range(self.n_rollouts):\n",
        "                    state, _ = env.reset(seed=i*j)\n",
        "                    self.particles[i].clear()\n",
        "                    for t in range(self.max_steps):\n",
        "                        a = self.particles[i].take_action(torch.tensor(state))\n",
        "                        new_state, reward, done, trunc, _ = env.step(a)\n",
        "                        self.particles[i].rewards_temp.append(reward)\n",
        "                        state = new_state\n",
        "                        if done or trunc:\n",
        "                            break\n",
        "\n",
        "                    episode_reward = sum(self.particles[i].rewards_temp)\n",
        "                    episode_rewards.append(episode_reward)\n",
        "                    self.particles[i].rewards.append(self.particles[i].rewards_temp)\n",
        "                    self.particles[i].log_probs.append(self.particles[i].log_probs_temp)\n",
        "            avg_reward_per_episode.append(np.mean(episode_rewards))\n",
        "            self._update()\n",
        "            self.alpha *= self.decay\n",
        "\n",
        "        return avg_reward_per_episode\n",
        "\n",
        "    def evaluate_policies(self, n_eval_episodes, max_steps):\n",
        "        best_idx = None\n",
        "        best_reward = -torch.inf\n",
        "        average_rewards = []\n",
        "        for i in tqdm(range(self.n_particles)):\n",
        "            total_rewards = []\n",
        "            env = self.envs[i]\n",
        "            policy = self.particles[i]\n",
        "            policy.clear()\n",
        "            for e in range(n_eval_episodes):\n",
        "                state, _ = env.reset()\n",
        "                rewards = []\n",
        "                for t in range(max_steps):\n",
        "                    probs = policy(torch.tensor(state, dtype=torch.float32))\n",
        "                    a = torch.argmax(probs)\n",
        "                    new_state, reward, done, trunc, _ = env.step(a.item())\n",
        "                    rewards.append(reward)\n",
        "                    state = new_state\n",
        "                    if done or trunc:\n",
        "                        break\n",
        "                total_rewards.append(np.sum(rewards))\n",
        "            agent_reward = np.mean(total_rewards)\n",
        "            average_rewards.append(agent_reward)\n",
        "            if agent_reward > best_reward:\n",
        "                best_reward = agent_reward\n",
        "                best_idx = i\n",
        "        self.best_policy = self.particles[best_idx]\n",
        "        return average_rewards\n",
        "\n",
        "\n",
        "    def evaluate_ensemble_policy(self, eval_episodes):\n",
        "        test_env = gym.make(self.env_name)\n",
        "        rewards = []\n",
        "        episode_rewards = []\n",
        "        for e in tqdm(range(eval_episodes)):\n",
        "            state, _ = test_env.reset(seed=e)\n",
        "            for i, env in enumerate(self.envs):\n",
        "                _, _ = env.reset(seed=e)\n",
        "            ep_reward = 0\n",
        "            for t in range(self.max_steps):\n",
        "                max_probs = []\n",
        "                max_actions = []\n",
        "                for i, env in enumerate(self.envs):\n",
        "                    policy = self.particles[i]\n",
        "                    probs = policy(torch.tensor(state, dtype=torch.float32))\n",
        "                    p = torch.max(probs)\n",
        "                    max_probs.append(p.item())\n",
        "                    a = torch.argmax(probs)\n",
        "                    max_actions.append(a.item())\n",
        "                max_idx = np.argmax(max_probs)\n",
        "                a = max_actions[max_idx]\n",
        "                for i, env in enumerate(self.envs):\n",
        "                    _, _, done, trunc, _ = env.step(a)\n",
        "                    if done or trunc:\n",
        "                        _, _ = env.reset()\n",
        "                new_state, reward, done, trunc, _ = test_env.step(a)\n",
        "                # rewards.append(reward)\n",
        "                ep_reward += reward\n",
        "                state = new_state\n",
        "                if done or trunc:\n",
        "                    break\n",
        "            episode_rewards.append(ep_reward)\n",
        "        return episode_rewards"
      ],
      "metadata": {
        "id": "qJ2GiLpgAfhV"
      },
      "execution_count": 5,
      "outputs": []
    },
    {
      "cell_type": "markdown",
      "source": [
        "## MK-SVPG"
      ],
      "metadata": {
        "id": "IiEvybntBy0Y"
      }
    },
    {
      "cell_type": "code",
      "source": [
        "class MK_SVPG_REINFORCE:\n",
        "    \"\"\"\n",
        "    Class to implement SVPG REINFORCE with Multiple Kernels (MK-SVPG)\n",
        "\n",
        "    Attributes:\n",
        "        - gamma (float): discount factor in (0, 1)\n",
        "        - gym_env_name (string): name of gym environment (e.g., \"Cartpole-v1\", \"Acrobat-v1\", \"LunarLander-v2\")\n",
        "        - n_particles (int): number of particles (policies) for SVPG\n",
        "        - max_episodes (int): max number of training episodes #TODO: convergence checks for early stopping\n",
        "        - max_steps (int): max number of steps in an episode (depends on environment; e.g., 500 for Cartpole-v1)\n",
        "        - learning_rate (float): initial learning rate for SVPG algorithm (initial because algo uses adaptive step sizes with Adam)\n",
        "        - best_policy (object of class Policy): policy that yields best evaluation performance\n",
        "        - bandwidth_scales (list): list of scaling factors to median heuristic bandwidth\n",
        "\n",
        "    Methods:\n",
        "        - _get_gram_matrix_and_grad(X, sigma): function to calculate gram matrix and gradients w.r.t X (particle matrix)\n",
        "        - _update(): function to implement an SVPG update step on each particle using the log_probs and rewards history\n",
        "        - train(): function to train the policies using _update after each episode\n",
        "        - evaluate_policies(): function to evaluate each of the trained policies and set the best_policy attribute\n",
        "    \"\"\"\n",
        "\n",
        "    def __init__(self, gamma, alpha, gym_env_name, n_particles, max_episodes, decay, max_steps, learning_rate, bandwidth_scales=[0.1, 0.5, 1.0, 1.1, 1.5, 2.0], n_hidden=128, num_rollouts=1, base_policy=None):\n",
        "        self.gamma = gamma\n",
        "        self.alpha = alpha\n",
        "        self.n_particles = n_particles\n",
        "        self.max_episodes = max_episodes\n",
        "        self.max_steps = max_steps\n",
        "        self.learning_rate = learning_rate\n",
        "        self.bandwidth_scales = bandwidth_scales\n",
        "        self.n_rollouts = num_rollouts\n",
        "        self.decay = decay\n",
        "        self.logq0 = 1.0 # flat improper prior as used in the SVPG paper\n",
        "        self.particles = []\n",
        "        self.optimizers = []\n",
        "        self.best_policy = None\n",
        "        self.envs = []\n",
        "        self.env_name = gym_env_name\n",
        "        env = gym.make(gym_env_name)\n",
        "        self.n_states = env.observation_space.shape[0]\n",
        "        self.n_actions = env.action_space.n\n",
        "        for _ in range(self.n_particles):\n",
        "            self.envs.append(env)\n",
        "            policy = Policy(input_dim=self.n_states, output_dim=self.n_actions, n_hidden=n_hidden, policy=base_policy)\n",
        "            optimizer = optim.Adam(policy.parameters(), lr=learning_rate)\n",
        "            # optimizer = optim.Adagrad(policy.parameters(), lr=learning_rate)\n",
        "            self.particles.append(policy)\n",
        "            self.optimizers.append(optimizer)\n",
        "\n",
        "    def discount_rewards(self, rewards):\n",
        "        discounted_rewards = torch.zeros_like(torch.tensor(rewards))\n",
        "        running_reward = 0\n",
        "        for t in reversed(range(len(rewards))):\n",
        "            running_reward = running_reward * self.gamma + rewards[t]\n",
        "            discounted_rewards[t] = running_reward\n",
        "        mu = torch.mean(discounted_rewards)\n",
        "        std = torch.std(discounted_rewards)\n",
        "        discounted_rewards = (discounted_rewards - mu) / (std + 1e-12) # standardize rewards to reduce variance\n",
        "        return discounted_rewards\n",
        "\n",
        "    def _get_gram_matrix_and_grad(self, X, sigma=None):\n",
        "        X_np = X.data.numpy()\n",
        "        pairwise_distances = squareform(pdist(X_np)) ** 2\n",
        "        if sigma is None:\n",
        "            med = np.median(pairwise_distances)\n",
        "            sigma = np.sqrt(0.5 * med / np.log(self.n_particles + 1))\n",
        "\n",
        "        pairwise_distances = torch.tensor(pairwise_distances, dtype=torch.float32)\n",
        "        K_list = []\n",
        "        dK_list = []\n",
        "        for a in self.bandwidth_scales:\n",
        "            s = a * sigma ** 2\n",
        "            K = torch.exp(- pairwise_distances / 2 * s)\n",
        "            K_list.append(K)\n",
        "            dK = - K.matmul(X)\n",
        "            dK_sum = dK.sum(dim=1)\n",
        "            for i in range(X.shape[1]):\n",
        "                dK[:, i] = dK[:, i] + X[:, i].matmul(dK_sum)\n",
        "            dK /= (sigma**2)\n",
        "            dK_list.append(dK)\n",
        "\n",
        "        return K_list, dK_list\n",
        "\n",
        "    def _update(self):\n",
        "        policy_grads = []\n",
        "        parameters = []\n",
        "        for i in range(self.n_particles):\n",
        "            policy = self.particles[i]\n",
        "            optimizer = self.optimizers[i]\n",
        "            overall_loss = 0\n",
        "            for j in range(self.n_rollouts):\n",
        "                policy_grad = []\n",
        "                G = self.discount_rewards(policy.rewards[j])\n",
        "                for log_pi, r in zip(policy.log_probs[j], G):\n",
        "                    policy_grad.append(log_pi * r)\n",
        "                policy_loss = sum(policy_grad)\n",
        "                overall_loss += policy_loss\n",
        "            optimizer.zero_grad()\n",
        "            loss = overall_loss / self.n_rollouts\n",
        "            loss.backward()\n",
        "            p_vec, g_vec = policy._flatten_parameters_and_grads()\n",
        "            policy_grads.append(g_vec.unsqueeze(0))\n",
        "            parameters.append(p_vec.unsqueeze(0))\n",
        "        parameters = torch.cat(parameters)\n",
        "\n",
        "        K_list, dK_list = self._get_gram_matrix_and_grad(parameters)\n",
        "        phi_list = []\n",
        "        phi_norms = []\n",
        "        a = 1 / self.alpha + self.logq0\n",
        "        for i in range(len(K_list)):\n",
        "            temp = policy_grads.copy()\n",
        "            K = K_list[i]\n",
        "            dK = dK_list[i]\n",
        "            temp = a * torch.cat(temp)\n",
        "            grad_logp = torch.mm(K, temp)\n",
        "            phi = - (grad_logp + dK) / self.n_particles\n",
        "            phi_list.append(phi)\n",
        "            phi_norms.append(torch.linalg.norm(phi))\n",
        "\n",
        "        phi_norm_sum = sum(phi_norms)\n",
        "        phi = 0\n",
        "        for i in range(len(phi_list)):\n",
        "            w = phi_norms[i] / phi_norm_sum\n",
        "            phi += w * phi_list[i]\n",
        "\n",
        "        for i in range(self.n_particles):\n",
        "            policy = self.particles[i]\n",
        "            policy._assign_grads(phi[i])\n",
        "            self.optimizers[i].step()\n",
        "            self.particles[i].clear(all=True)\n",
        "\n",
        "\n",
        "    def train(self):\n",
        "        avg_reward_per_episode = []\n",
        "        for e in tqdm(range(self.max_episodes)):\n",
        "            episode_rewards = []\n",
        "            for i, env in enumerate(self.envs):\n",
        "                rewards = []\n",
        "                for j in range(self.n_rollouts):\n",
        "                    state, _ = env.reset(seed=i*j)\n",
        "                    self.particles[i].clear()\n",
        "                    for t in range(self.max_steps):\n",
        "                        a = self.particles[i].take_action(torch.tensor(state))\n",
        "                        new_state, reward, done, trunc, _ = env.step(a)\n",
        "                        self.particles[i].rewards_temp.append(reward)\n",
        "                        state = new_state\n",
        "                        if done or trunc:\n",
        "                            break\n",
        "                    self.particles[i].rewards.append(self.particles[i].rewards_temp)\n",
        "                    self.particles[i].log_probs.append(self.particles[i].log_probs_temp)\n",
        "                    episode_reward = sum(self.particles[i].rewards_temp)\n",
        "                    episode_rewards.append(episode_reward)\n",
        "            avg_reward_per_episode.append(np.mean(episode_rewards))\n",
        "            self._update()\n",
        "            self.alpha *= self.decay\n",
        "        return avg_reward_per_episode\n",
        "\n",
        "    def evaluate_policies(self, n_eval_episodes, max_steps, save_path):\n",
        "        best_idx = None\n",
        "        best_reward = -torch.inf\n",
        "        average_rewards = []\n",
        "        for i in tqdm(range(self.n_particles)):\n",
        "            total_rewards = []\n",
        "            env = self.envs[i]\n",
        "            policy = self.particles[i]\n",
        "            policy.clear()\n",
        "            # policy_save_path = os.path.join(save_path, \"mk_svpg_best.pt\")\n",
        "            for e in range(n_eval_episodes):\n",
        "                state, _ = env.reset()\n",
        "                rewards = []\n",
        "                for t in range(max_steps):\n",
        "                    probs = policy(torch.tensor(state, dtype=torch.float32))\n",
        "                    a = torch.argmax(probs)\n",
        "                    new_state, reward, done, trunc, _ = env.step(a.item())\n",
        "                    rewards.append(reward)\n",
        "                    state = new_state\n",
        "                    if done or trunc:\n",
        "                        break\n",
        "                total_rewards.append(np.sum(rewards))\n",
        "            agent_reward = np.mean(total_rewards)\n",
        "            average_rewards.append(agent_reward)\n",
        "            if agent_reward > best_reward:\n",
        "                best_reward = agent_reward\n",
        "                best_idx = i\n",
        "        self.best_policy = self.particles[best_idx]\n",
        "        # torch.save(self.best_policy.state_dict(), policy_save_path)\n",
        "        return average_rewards\n",
        "\n",
        "    def evaluate_ensemble_policy(self, eval_episodes):\n",
        "        test_env = gym.make(self.env_name)\n",
        "        episode_rewards = []\n",
        "        for e in tqdm(range(eval_episodes)):\n",
        "            state, _ = test_env.reset(seed=e)\n",
        "            for i, env in enumerate(self.envs):\n",
        "                _, _ = env.reset(seed=e)\n",
        "            ep_reward = 0\n",
        "            for t in range(self.max_steps):\n",
        "                max_probs = []\n",
        "                max_actions = []\n",
        "                for i, env in enumerate(self.envs):\n",
        "                    policy = self.particles[i]\n",
        "                    probs = policy(torch.tensor(state, dtype=torch.float32))\n",
        "                    p = torch.max(probs)\n",
        "                    max_probs.append(p.item())\n",
        "                    a = torch.argmax(probs)\n",
        "                    max_actions.append(a.item())\n",
        "                max_idx = np.argmax(max_probs)\n",
        "                a = max_actions[max_idx]\n",
        "                for i, env in enumerate(self.envs):\n",
        "                    _, _, done, trunc, _ = env.step(a)\n",
        "                    if done or trunc:\n",
        "                        _, _ = env.reset()\n",
        "                new_state, reward, done, trunc, _ = test_env.step(a)\n",
        "                ep_reward += reward\n",
        "                state = new_state\n",
        "                if done or trunc:\n",
        "                    break\n",
        "            episode_rewards.append(ep_reward)\n",
        "        return episode_rewards\n",
        ""
      ],
      "metadata": {
        "id": "25R9SnePAno9"
      },
      "execution_count": 6,
      "outputs": []
    },
    {
      "cell_type": "markdown",
      "source": [
        "# Experiments"
      ],
      "metadata": {
        "id": "n4JEOFmJDuSl"
      }
    },
    {
      "cell_type": "markdown",
      "source": [
        "## CartPole-v1"
      ],
      "metadata": {
        "id": "y023AG5fNqCK"
      }
    },
    {
      "cell_type": "markdown",
      "source": [
        "Results for CartPole:\n",
        "\n",
        "\\begin{array}{|c|c|c|c|}\n",
        "\\text{Algorithm} & \\text{Avg over agents} & \\text{Ensemble} & \\text{best agent}\\\\\n",
        "\\hline\n",
        "\\text{REINFORCE} & 476.506875 & 500.0 & 500.0\\\\\n",
        "\\text{MK-SVPG} & 415.22875 & 500.0 & 500.0\\\\\n",
        "\\text{SVPG} & 473.168125 & 500 & 500\n",
        "\\end{array}"
      ],
      "metadata": {
        "id": "TdljtiIYmI17"
      }
    },
    {
      "cell_type": "markdown",
      "source": [
        "### REINFORCE"
      ],
      "metadata": {
        "id": "czdJzaLgNs4k"
      }
    },
    {
      "cell_type": "code",
      "source": [
        "ENV_NAME = \"CartPole-v1\"\n",
        "N_PARTICLES = 16\n",
        "MAX_EPISODES = 50\n",
        "MAX_STEPS = 500\n",
        "# LEARNING_RATE = 1e-3\n",
        "LEARNING_RATE = 1e-2\n",
        "N_ROLLOUTS = 20\n",
        "GAMMA = 0.99\n",
        "\n",
        "N_HIDDEN = 128\n",
        "\n",
        "\n",
        "reinforce = REINFORCE(gamma=GAMMA, gym_env_name=ENV_NAME, n_particles = N_PARTICLES,\n",
        "                      max_episodes=MAX_EPISODES, max_steps=MAX_STEPS,\n",
        "                      learning_rate=LEARNING_RATE, num_rollouts=N_ROLLOUTS)\n",
        "reinforce_rewards = reinforce.train()\n"
      ],
      "metadata": {
        "colab": {
          "base_uri": "https://localhost:8080/"
        },
        "id": "3GybP0WqNsfF",
        "outputId": "d608f6a1-a02f-4df3-d949-2407edabaee5"
      },
      "execution_count": null,
      "outputs": [
        {
          "output_type": "stream",
          "name": "stderr",
          "text": [
            "100%|██████████| 50/50 [1:07:09<00:00, 80.60s/it] \n"
          ]
        }
      ]
    },
    {
      "cell_type": "code",
      "source": [
        "plt.plot(reinforce_rewards)\n",
        "plt.ylabel(\"Average rewards\")\n",
        "plt.xlabel(\"Episodes\")\n",
        "# plt.savefig(\"/content/drive/MyDrive/MSc MLAI/Research/PROJECT/REPORT/images/reinforce_cartpole.pdf\", dpi=300)\n",
        "plt.show()"
      ],
      "metadata": {
        "colab": {
          "base_uri": "https://localhost:8080/",
          "height": 449
        },
        "id": "lDd3LARBN5Fe",
        "outputId": "984b1421-a049-4c3f-9a5a-4a8d647858e0"
      },
      "execution_count": null,
      "outputs": [
        {
          "output_type": "display_data",
          "data": {
            "text/plain": [
              "<Figure size 640x480 with 1 Axes>"
            ],
            "image/png": "[encoded data removed]"
          },
          "metadata": {}
        }
      ]
    },
    {
      "cell_type": "code",
      "source": [
        "EVAL_EPISODES = 100\n",
        "agent_rewards = reinforce.evaluate_policies(EVAL_EPISODES, MAX_STEPS)\n",
        "print(agent_rewards)\n",
        "print(np.mean(agent_rewards))"
      ],
      "metadata": {
        "colab": {
          "base_uri": "https://localhost:8080/"
        },
        "id": "NZvPIi0BN7B3",
        "outputId": "d8a767d7-76d6-45d0-ebe4-0dd157e74014"
      },
      "execution_count": null,
      "outputs": [
        {
          "output_type": "stream",
          "name": "stderr",
          "text": [
            "100%|██████████| 16/16 [02:00<00:00,  7.51s/it]"
          ]
        },
        {
          "output_type": "stream",
          "name": "stdout",
          "text": [
            "[293.5, 496.72, 500.0, 500.0, 500.0, 500.0, 497.82, 497.03, 426.24, 495.96, 490.01, 500.0, 490.78, 500.0, 500.0, 500.0]\n",
            "480.50375\n"
          ]
        },
        {
          "output_type": "stream",
          "name": "stderr",
          "text": [
            "\n"
          ]
        }
      ]
    },
    {
      "cell_type": "code",
      "source": [
        "reinforce.best_policy.evaluate_policy(env_name=ENV_NAME, n_eval_episodes=EVAL_EPISODES, max_steps=MAX_STEPS)"
      ],
      "metadata": {
        "colab": {
          "base_uri": "https://localhost:8080/"
        },
        "id": "5XGcRFhxN-si",
        "outputId": "755fe345-cdb5-44e4-cd0b-4c662a73f9e2"
      },
      "execution_count": null,
      "outputs": [
        {
          "output_type": "stream",
          "name": "stderr",
          "text": [
            "100%|██████████| 100/100 [00:07<00:00, 13.06it/s]\n"
          ]
        },
        {
          "output_type": "execute_result",
          "data": {
            "text/plain": [
              "500.0"
            ]
          },
          "metadata": {},
          "execution_count": 62
        }
      ]
    },
    {
      "cell_type": "code",
      "source": [
        "ep_rewards = reinforce.evaluate_ensemble_policy(eval_episodes=100)\n",
        "print(np.mean(ep_rewards))"
      ],
      "metadata": {
        "colab": {
          "base_uri": "https://localhost:8080/"
        },
        "id": "2mrXR4HjN_tx",
        "outputId": "d3d49f1c-b938-4e1b-fcdd-23066fe65cf4"
      },
      "execution_count": null,
      "outputs": [
        {
          "output_type": "stream",
          "name": "stderr",
          "text": [
            "100%|██████████| 100/100 [02:07<00:00,  1.28s/it]"
          ]
        },
        {
          "output_type": "stream",
          "name": "stdout",
          "text": [
            "500.0\n"
          ]
        },
        {
          "output_type": "stream",
          "name": "stderr",
          "text": [
            "\n"
          ]
        }
      ]
    },
    {
      "cell_type": "markdown",
      "source": [
        "### Vanilla SVPG"
      ],
      "metadata": {
        "id": "554GlQxYNur6"
      }
    },
    {
      "cell_type": "code",
      "source": [
        "ENV_NAME = \"CartPole-v1\"\n",
        "N_PARTICLES = 16\n",
        "MAX_EPISODES = 50\n",
        "MAX_STEPS = 500\n",
        "# LEARNING_RATE = 1e-3\n",
        "LEARNING_RATE = 1e-2\n",
        "N_ROLLOUTS = 20\n",
        "GAMMA = 0.99\n",
        "ALPHA = 10\n",
        "N_HIDDEN = 128\n",
        "DECAY = 1 - 20 / MAX_EPISODES\n",
        "\n",
        "svpg = SVPG_REINFORCE(gamma=GAMMA, alpha=ALPHA, n_particles=N_PARTICLES, gym_env_name=ENV_NAME, n_hidden=N_HIDDEN,\n",
        "                        learning_rate=LEARNING_RATE, max_episodes=MAX_EPISODES, max_steps=MAX_STEPS, decay=DECAY, num_rollouts=N_ROLLOUTS)\n",
        "\n",
        "svpg_rewards = svpg.train()"
      ],
      "metadata": {
        "id": "lFnRYCbkNwDt"
      },
      "execution_count": null,
      "outputs": []
    },
    {
      "cell_type": "code",
      "source": [
        "plt.plot(svpg_rewards)\n",
        "plt.ylabel(\"Average rewards\")\n",
        "plt.xlabel(\"Episodes\")\n",
        "# plt.savefig(\"/content/drive/MyDrive/MSc MLAI/Research/PROJECT/REPORT/images/reinforce_cartpole.pdf\", dpi=300)\n",
        "plt.show()"
      ],
      "metadata": {
        "id": "ov4I2daEOMPx"
      },
      "execution_count": null,
      "outputs": []
    },
    {
      "cell_type": "code",
      "source": [
        "EVAL_EPISODES = 100\n",
        "agent_rewards = svpg.evaluate_policies(n_eval_episodes=EVAL_EPISODES, max_steps=MAX_STEPS)\n",
        "print(agent_rewards)\n",
        "print(np.mean(agent_rewards))"
      ],
      "metadata": {
        "id": "WsoAwWFrOOQv"
      },
      "execution_count": null,
      "outputs": []
    },
    {
      "cell_type": "code",
      "source": [
        "svpg.best_policy.evaluate_policy(env_name=ENV_NAME, n_eval_episodes=EVAL_EPISODES, max_steps=MAX_STEPS)"
      ],
      "metadata": {
        "id": "dI4YZzpCORYM"
      },
      "execution_count": null,
      "outputs": []
    },
    {
      "cell_type": "code",
      "source": [
        "ep_rewards = svpg.evaluate_ensemble_policy(eval_episodes=100)\n",
        "print(np.mean(ep_rewards))"
      ],
      "metadata": {
        "id": "Zr79_fh8OPwj"
      },
      "execution_count": null,
      "outputs": []
    },
    {
      "cell_type": "markdown",
      "source": [
        "### MK-SVPG"
      ],
      "metadata": {
        "id": "__aRqCaJNwWh"
      }
    },
    {
      "cell_type": "code",
      "source": [
        "ENV_NAME = \"CartPole-v1\"\n",
        "# ENV_NAME = \"Acrobot-v1\"\n",
        "N_PARTICLES = 16\n",
        "MAX_EPISODES = 50\n",
        "MAX_STEPS = 500\n",
        "# LEARNING_RATE = 1e-3\n",
        "LEARNING_RATE = 1e-2\n",
        "N_ROLLOUTS = 20\n",
        "GAMMA = 0.99\n",
        "ALPHA = 10.0\n",
        "# ALPHA = 5.0\n",
        "N_HIDDEN = 128\n",
        "DECAY = 1 - 20 / MAX_EPISODES\n",
        "B_SCALES = [0.1, 0.3, 0.5, 0.7, 1.0, 1.3, 1.5, 1.7, 2.0, 2.5, 3.0]\n",
        "\n",
        "mk_svpg = MK_SVPG_REINFORCE(gamma=GAMMA, alpha=ALPHA, n_particles=N_PARTICLES, gym_env_name=ENV_NAME, n_hidden=N_HIDDEN,\n",
        "                            learning_rate=LEARNING_RATE, max_episodes=MAX_EPISODES, max_steps=MAX_STEPS,\n",
        "                            bandwidth_scales=B_SCALES, num_rollouts=N_ROLLOUTS, decay=DECAY)\n",
        "\n",
        "mk_svpg_rewards = mk_svpg.train()"
      ],
      "metadata": {
        "id": "gLLnmpZSNxtu"
      },
      "execution_count": null,
      "outputs": []
    },
    {
      "cell_type": "code",
      "source": [
        "plt.plot(mk_svpg_rewards)\n",
        "plt.ylabel(\"Average rewards\")\n",
        "plt.xlabel(\"Episodes\")\n",
        "plt.show()"
      ],
      "metadata": {
        "id": "_2DvavjYOYXw"
      },
      "execution_count": null,
      "outputs": []
    },
    {
      "cell_type": "code",
      "source": [
        "EVAL_EPISODES = 100\n",
        "agent_rewards = mk_svpg.evaluate_policies(EVAL_EPISODES, MAX_STEPS)\n",
        "print(agent_rewards)\n",
        "print(np.mean(agent_rewards))"
      ],
      "metadata": {
        "id": "VcBzVuDPOa2U"
      },
      "execution_count": null,
      "outputs": []
    },
    {
      "cell_type": "code",
      "source": [
        "mk_svpg.best_policy.evaluate_policy(env_name=ENV_NAME, n_eval_episodes=EVAL_EPISODES, max_steps=MAX_STEPS)"
      ],
      "metadata": {
        "id": "j2kjFYDtOdhy"
      },
      "execution_count": null,
      "outputs": []
    },
    {
      "cell_type": "code",
      "source": [
        "ep_rewards = mk_svpg.evaluate_ensemble_policy(eval_episodes=100)\n",
        "print(np.mean(ep_rewards))"
      ],
      "metadata": {
        "id": "_5REDCIEOcGk"
      },
      "execution_count": null,
      "outputs": []
    },
    {
      "cell_type": "markdown",
      "source": [
        "## Acrobot-v1"
      ],
      "metadata": {
        "id": "CXkiCsGvDvTg"
      }
    },
    {
      "cell_type": "markdown",
      "source": [
        "ACrobot results:\n",
        "\n",
        "\\begin{array}{|c|c|c|c|}\n",
        "\\text{Algorithm} & \\text{Avg} & \\text{Best} & \\text{ensemble}\\\\\n",
        "\\hline\n",
        "\\text{MK-SVPG} & -291.70562500000005 & -79.12 & -86.23\\\\\n",
        "\\text{REINFORCE} & -320.379375 & -81.05 & -500.0\\\\\n",
        "\\text{SVPG} & -196.61625000000004 &-84.47 & -455.73\n",
        "\\end{array}\n"
      ],
      "metadata": {
        "id": "zusOhePsmt27"
      }
    },
    {
      "cell_type": "markdown",
      "source": [
        "### REINFORCE"
      ],
      "metadata": {
        "id": "__EyLsD8KEse"
      }
    },
    {
      "cell_type": "code",
      "source": [
        "ENV_NAME = \"Acrobot-v1\"\n",
        "N_PARTICLES = 16\n",
        "MAX_EPISODES = 100\n",
        "MAX_STEPS = 500\n",
        "LEARNING_RATE = 1e-3\n",
        "# LEARNING_RATE = 1e-2\n",
        "N_ROLLOUTS = 5\n",
        "GAMMA = 0.99\n",
        "\n",
        "N_HIDDEN = 128\n",
        "\n",
        "reinforce = REINFORCE(gamma=GAMMA, gym_env_name=ENV_NAME, n_particles = N_PARTICLES,\n",
        "                      max_episodes=MAX_EPISODES, max_steps=MAX_STEPS,\n",
        "                      learning_rate=LEARNING_RATE, num_rollouts=N_ROLLOUTS)\n",
        "reinforce_rewards = reinforce.train()"
      ],
      "metadata": {
        "colab": {
          "base_uri": "https://localhost:8080/"
        },
        "id": "uNPCa4m1KGUv",
        "outputId": "63d28235-210f-4d61-d135-9f8aea37e979"
      },
      "execution_count": null,
      "outputs": [
        {
          "output_type": "stream",
          "name": "stderr",
          "text": [
            "100%|██████████| 100/100 [1:03:54<00:00, 38.35s/it]\n"
          ]
        }
      ]
    },
    {
      "cell_type": "code",
      "source": [
        "plt.plot(reinforce_rewards)"
      ],
      "metadata": {
        "colab": {
          "base_uri": "https://localhost:8080/",
          "height": 447
        },
        "id": "TqSbp1RPNHJG",
        "outputId": "954960ac-9187-444f-eabc-e7b40277684c"
      },
      "execution_count": null,
      "outputs": [
        {
          "output_type": "execute_result",
          "data": {
            "text/plain": [
              "[<matplotlib.lines.Line2D at 0x7995fc7ef670>]"
            ]
          },
          "metadata": {},
          "execution_count": 26
        },
        {
          "output_type": "display_data",
          "data": {
            "text/plain": [
              "<Figure size 640x480 with 1 Axes>"
            ],
            "image/png": "[encoded data removed]"
          },
          "metadata": {}
        }
      ]
    },
    {
      "cell_type": "code",
      "source": [
        "save_path = \"/content/drive/MyDrive/MSc MLAI/Research/temp\"\n",
        "import pickle\n",
        "\n",
        "# Save the list to a file\n",
        "with open(os.path.join(save_path, \"reinforce_rewards\"), 'wb') as file:\n",
        "    pickle.dump(reinforce_rewards, file)\n"
      ],
      "metadata": {
        "id": "lYtxZkIF2zNq"
      },
      "execution_count": null,
      "outputs": []
    },
    {
      "cell_type": "code",
      "source": [
        "EVAL_EPISODES = 100\n",
        "agent_rewards = reinforce.evaluate_policies(EVAL_EPISODES, MAX_STEPS)\n",
        "print(agent_rewards)\n",
        "print(np.mean(agent_rewards))"
      ],
      "metadata": {
        "id": "RGeuo4gcNSMh",
        "colab": {
          "base_uri": "https://localhost:8080/"
        },
        "outputId": "ec293078-8d7b-4335-ccef-ab5f943060c3"
      },
      "execution_count": null,
      "outputs": [
        {
          "output_type": "stream",
          "name": "stderr",
          "text": [
            "100%|██████████| 16/16 [03:15<00:00, 12.24s/it]"
          ]
        },
        {
          "output_type": "stream",
          "name": "stdout",
          "text": [
            "[-500.0, -500.0, -376.75, -133.93, -134.81, -500.0, -500.0, -500.0, -99.58, -492.13, -500.0, -107.45, -88.34, -500.0, -104.03, -89.05]\n",
            "-320.379375\n"
          ]
        },
        {
          "output_type": "stream",
          "name": "stderr",
          "text": [
            "\n"
          ]
        }
      ]
    },
    {
      "cell_type": "code",
      "source": [
        "reinforce.best_policy.evaluate_policy(env_name=ENV_NAME, n_eval_episodes=EVAL_EPISODES, max_steps=MAX_STEPS)"
      ],
      "metadata": {
        "id": "jNGNKanShmEJ",
        "colab": {
          "base_uri": "https://localhost:8080/"
        },
        "outputId": "30431a56-4f6a-4989-ea5b-565733925fd4"
      },
      "execution_count": null,
      "outputs": [
        {
          "output_type": "stream",
          "name": "stderr",
          "text": [
            "100%|██████████| 100/100 [00:02<00:00, 35.87it/s]\n"
          ]
        },
        {
          "output_type": "execute_result",
          "data": {
            "text/plain": [
              "-81.05"
            ]
          },
          "metadata": {},
          "execution_count": 29
        }
      ]
    },
    {
      "cell_type": "code",
      "source": [
        "ep_rewards = reinforce.evaluate_ensemble_policy(eval_episodes=100)\n",
        "np.mean(ep_rewards)"
      ],
      "metadata": {
        "id": "dpaUft21hjrP",
        "colab": {
          "base_uri": "https://localhost:8080/"
        },
        "outputId": "edb9c773-e4ca-4644-a0d7-bcb40f5247f9"
      },
      "execution_count": null,
      "outputs": [
        {
          "output_type": "stream",
          "name": "stderr",
          "text": [
            "100%|██████████| 100/100 [04:17<00:00,  2.57s/it]\n"
          ]
        },
        {
          "output_type": "execute_result",
          "data": {
            "text/plain": [
              "-500.0"
            ]
          },
          "metadata": {},
          "execution_count": 30
        }
      ]
    },
    {
      "cell_type": "markdown",
      "source": [
        "### Vanilla SVPG"
      ],
      "metadata": {
        "id": "h-6mFR1S3rwy"
      }
    },
    {
      "cell_type": "code",
      "source": [
        "ENV_NAME = \"Acrobot-v1\"\n",
        "N_PARTICLES = 16\n",
        "MAX_EPISODES = 100\n",
        "MAX_STEPS = 500\n",
        "LEARNING_RATE = 1e-3\n",
        "# LEARNING_RATE = 1e-2\n",
        "N_ROLLOUTS = 5\n",
        "GAMMA = 0.99\n",
        "ALPHA = 10\n",
        "N_HIDDEN = 128\n",
        "DECAY = 1 - 25 / MAX_EPISODES\n",
        "\n",
        "svpg = SVPG_REINFORCE(gamma=GAMMA, alpha=ALPHA, n_particles=N_PARTICLES, gym_env_name=ENV_NAME, n_hidden=N_HIDDEN,\n",
        "                        learning_rate=LEARNING_RATE, max_episodes=MAX_EPISODES, max_steps=MAX_STEPS, decay=DECAY, num_rollouts=N_ROLLOUTS)\n",
        "\n",
        "svpg_rewards = svpg.train()"
      ],
      "metadata": {
        "colab": {
          "base_uri": "https://localhost:8080/"
        },
        "id": "Gnlu--Nm3uCv",
        "outputId": "09c70c16-e671-4434-fb02-836433eedf39"
      },
      "execution_count": null,
      "outputs": [
        {
          "output_type": "stream",
          "name": "stderr",
          "text": [
            "100%|██████████| 100/100 [49:04<00:00, 29.44s/it]\n"
          ]
        }
      ]
    },
    {
      "cell_type": "code",
      "source": [
        "save_path = \"/content/drive/MyDrive/MSc MLAI/Research/temp\"\n",
        "import pickle\n",
        "import os\n",
        "# Save the list to a file\n",
        "with open(os.path.join(save_path, \"svpg_rewards\"), 'wb') as file:\n",
        "    pickle.dump(svpg_rewards, file)"
      ],
      "metadata": {
        "id": "3j88CC6PC7T-"
      },
      "execution_count": null,
      "outputs": []
    },
    {
      "cell_type": "code",
      "source": [
        "plt.plot(svpg_rewards)\n",
        "plt.ylabel(\"Average rewards\")\n",
        "plt.xlabel(\"Episodes\")\n",
        "plt.show()"
      ],
      "metadata": {
        "colab": {
          "base_uri": "https://localhost:8080/",
          "height": 449
        },
        "id": "8AVNRBhF4Xy8",
        "outputId": "82b52b0f-0d42-41c9-8408-622ce4aa7d88"
      },
      "execution_count": null,
      "outputs": [
        {
          "output_type": "display_data",
          "data": {
            "text/plain": [
              "<Figure size 640x480 with 1 Axes>"
            ],
            "image/png": "[encoded data removed]"
          },
          "metadata": {}
        }
      ]
    },
    {
      "cell_type": "code",
      "source": [
        "EVAL_EPISODES = 100\n",
        "agent_rewards = svpg.evaluate_policies(EVAL_EPISODES, MAX_STEPS)\n",
        "print(agent_rewards)\n",
        "print(np.mean(agent_rewards))"
      ],
      "metadata": {
        "colab": {
          "base_uri": "https://localhost:8080/"
        },
        "id": "SsTeAxTI4Yr_",
        "outputId": "8d109e35-0ddc-4012-d7b6-c86e1c543ad1"
      },
      "execution_count": null,
      "outputs": [
        {
          "output_type": "stream",
          "name": "stderr",
          "text": [
            "100%|██████████| 16/16 [01:53<00:00,  7.09s/it]"
          ]
        },
        {
          "output_type": "stream",
          "name": "stdout",
          "text": [
            "[-90.01, -496.42, -99.9, -84.05, -139.53, -500.0, -87.37, -95.42, -89.93, -500.0, -97.34, -303.64, -229.7, -156.2, -84.88, -91.47]\n",
            "-196.61625000000004\n"
          ]
        },
        {
          "output_type": "stream",
          "name": "stderr",
          "text": [
            "\n"
          ]
        }
      ]
    },
    {
      "cell_type": "code",
      "source": [
        "ep_rewards = svpg.evaluate_ensemble_policy(eval_episodes=100)\n",
        "np.mean(ep_rewards)"
      ],
      "metadata": {
        "colab": {
          "base_uri": "https://localhost:8080/"
        },
        "id": "9Hzook1g4bQO",
        "outputId": "bbc20757-5755-44c5-e8e7-55e72ebdf8b2"
      },
      "execution_count": null,
      "outputs": [
        {
          "output_type": "stream",
          "name": "stderr",
          "text": [
            "100%|██████████| 100/100 [03:48<00:00,  2.29s/it]\n"
          ]
        },
        {
          "output_type": "execute_result",
          "data": {
            "text/plain": [
              "-455.73"
            ]
          },
          "metadata": {},
          "execution_count": 35
        }
      ]
    },
    {
      "cell_type": "code",
      "source": [
        "svpg.best_policy.evaluate_policy(env_name=ENV_NAME, n_eval_episodes=100, max_steps=MAX_STEPS)"
      ],
      "metadata": {
        "colab": {
          "base_uri": "https://localhost:8080/"
        },
        "id": "NfnGkW684dB4",
        "outputId": "336efe32-bde0-47e0-e190-282e1ca4ea6c"
      },
      "execution_count": null,
      "outputs": [
        {
          "output_type": "stream",
          "name": "stderr",
          "text": [
            "100%|██████████| 100/100 [00:04<00:00, 24.50it/s]\n"
          ]
        },
        {
          "output_type": "execute_result",
          "data": {
            "text/plain": [
              "-84.47"
            ]
          },
          "metadata": {},
          "execution_count": 36
        }
      ]
    },
    {
      "cell_type": "code",
      "source": [
        "plt.plot(reinforce_rewards, label=\"REINFORCE\")\n",
        "plt.plot(svpg_rewards, label=\"SVPG\")\n",
        "plt.plot(mk_svpg_rewards, label=\"MK-SVPG\")\n",
        "plt.legend()\n",
        "plt.xlabel(\"Episode\")\n",
        "plt.ylabel(\"Average reward across agents\")\n",
        "# plt.savefig(\"/content/drive/MyDrive/MSc MLAI/Research/PROJECT/REPORT/images/acrobot.pdf\", dpi=300)\n",
        "plt.show()"
      ],
      "metadata": {
        "colab": {
          "base_uri": "https://localhost:8080/",
          "height": 449
        },
        "id": "uKUpdrCROAhq",
        "outputId": "f366d0c3-2aee-4ec0-a0e9-b844faae0918"
      },
      "execution_count": null,
      "outputs": [
        {
          "output_type": "display_data",
          "data": {
            "text/plain": [
              "<Figure size 640x480 with 1 Axes>"
            ],
            "image/png": "[encoded data removed]"
          },
          "metadata": {}
        }
      ]
    },
    {
      "cell_type": "markdown",
      "source": [
        "### MK-SVPG"
      ],
      "metadata": {
        "id": "_mjKeKJpDzBF"
      }
    },
    {
      "cell_type": "code",
      "source": [
        "\"\"\"\n",
        "BEST\n",
        "# v3\n",
        "[-500.0, -414.3, -500.0, -177.67, -248.15, -103.89, -82.64, -113.04, -500.0, -324.15, -110.93, -132.88, -87.9, -500.0, -489.74, -382.0]\n",
        "avg: -291.70562500000005\n",
        "best: -79.12\n",
        "ensemble: -86.23\n",
        "\"\"\"\n",
        "ENV_NAME = \"Acrobot-v1\"\n",
        "N_PARTICLES = 16\n",
        "MAX_EPISODES = 100\n",
        "MAX_STEPS = 500\n",
        "LEARNING_RATE = 1e-3\n",
        "# LEARNING_RATE = 1e-2\n",
        "N_ROLLOUTS = 5\n",
        "GAMMA = 0.99\n",
        "ALPHA = 10\n",
        "N_HIDDEN = 128\n",
        "DECAY = 1 - 25 / MAX_EPISODES\n",
        "\n",
        "B_SCALES = [0.1, 0.3, 0.5, 0.7, 1.0, 1.3, 1.5, 1.7, 2.0, 2.5, 3.0, 4.0, 5.0]\n",
        "\n",
        "mk_svpg = MK_SVPG_REINFORCE(gamma=GAMMA, alpha=ALPHA, n_particles=N_PARTICLES, gym_env_name=ENV_NAME, n_hidden=N_HIDDEN,\n",
        "                            learning_rate=LEARNING_RATE, max_episodes=MAX_EPISODES, max_steps=MAX_STEPS,\n",
        "                            bandwidth_scales=B_SCALES, num_rollouts=N_ROLLOUTS, decay=DECAY)\n",
        "\n",
        "mk_svpg_rewards = mk_svpg.train()"
      ],
      "metadata": {
        "colab": {
          "base_uri": "https://localhost:8080/"
        },
        "id": "WHfICQsjJwRr",
        "outputId": "74affb7a-75bf-46fc-d4dd-55ce2fa7efe0"
      },
      "execution_count": null,
      "outputs": [
        {
          "output_type": "stream",
          "name": "stderr",
          "text": [
            "100%|██████████| 100/100 [54:27<00:00, 32.68s/it]\n"
          ]
        }
      ]
    },
    {
      "cell_type": "code",
      "source": [
        "plt.plot(mk_svpg_rewards)\n",
        "plt.ylabel(\"Average rewards\")\n",
        "plt.xlabel(\"Episodes\")\n",
        "plt.show()"
      ],
      "metadata": {
        "colab": {
          "base_uri": "https://localhost:8080/",
          "height": 449
        },
        "id": "GCxx4akXDo7n",
        "outputId": "0146aefe-665b-4401-95e8-7e009eac556d"
      },
      "execution_count": null,
      "outputs": [
        {
          "output_type": "display_data",
          "data": {
            "text/plain": [
              "<Figure size 640x480 with 1 Axes>"
            ],
            "image/png": "[encoded data removed]"
          },
          "metadata": {}
        }
      ]
    },
    {
      "cell_type": "code",
      "source": [
        "EVAL_EPISODES = 100\n",
        "agent_rewards = mk_svpg.evaluate_policies(EVAL_EPISODES, MAX_STEPS)\n",
        "print(agent_rewards)\n",
        "print(np.mean(agent_rewards))"
      ],
      "metadata": {
        "colab": {
          "base_uri": "https://localhost:8080/"
        },
        "id": "HYkKx8dXDqcM",
        "outputId": "7788cb0f-e159-41fb-eeff-0c6464388ce1"
      },
      "execution_count": null,
      "outputs": [
        {
          "output_type": "stream",
          "name": "stderr",
          "text": [
            "100%|██████████| 16/16 [02:42<00:00, 10.14s/it]"
          ]
        },
        {
          "output_type": "stream",
          "name": "stdout",
          "text": [
            "[-500.0, -414.3, -500.0, -177.67, -248.15, -103.89, -82.64, -113.04, -500.0, -324.15, -110.93, -132.88, -87.9, -500.0, -489.74, -382.0]\n",
            "-291.70562500000005\n"
          ]
        },
        {
          "output_type": "stream",
          "name": "stderr",
          "text": [
            "\n"
          ]
        }
      ]
    },
    {
      "cell_type": "code",
      "source": [
        "ep_rewards = mk_svpg.evaluate_ensemble_policy(eval_episodes=100)\n",
        "np.mean(ep_rewards)"
      ],
      "metadata": {
        "colab": {
          "base_uri": "https://localhost:8080/"
        },
        "id": "jkGyvR3SDrZm",
        "outputId": "66c0a374-ca4d-48b6-c412-343e91ed58e0"
      },
      "execution_count": null,
      "outputs": [
        {
          "output_type": "stream",
          "name": "stderr",
          "text": [
            "100%|██████████| 100/100 [00:41<00:00,  2.42it/s]\n"
          ]
        },
        {
          "output_type": "execute_result",
          "data": {
            "text/plain": [
              "-86.23"
            ]
          },
          "metadata": {},
          "execution_count": 18
        }
      ]
    },
    {
      "cell_type": "code",
      "source": [
        "mk_svpg.best_policy.evaluate_policy(env_name=ENV_NAME, n_eval_episodes=100, max_steps=MAX_STEPS)"
      ],
      "metadata": {
        "colab": {
          "base_uri": "https://localhost:8080/"
        },
        "id": "2XlJ6INsDskr",
        "outputId": "2d098a6c-1058-4369-d708-45e4444a45b5"
      },
      "execution_count": null,
      "outputs": [
        {
          "output_type": "stream",
          "name": "stderr",
          "text": [
            "100%|██████████| 100/100 [00:03<00:00, 32.09it/s]\n"
          ]
        },
        {
          "output_type": "execute_result",
          "data": {
            "text/plain": [
              "-79.12"
            ]
          },
          "metadata": {},
          "execution_count": 19
        }
      ]
    },
    {
      "cell_type": "markdown",
      "source": [
        "## LunarLander"
      ],
      "metadata": {
        "id": "GvbS0o25dSE_"
      }
    },
    {
      "cell_type": "markdown",
      "source": [
        "LunarLander results:\n",
        "\n",
        "\\begin{array}{|c|c|c|c|}\n",
        "\\text{Algorithm} & \\text{Avg} & \\text{Best} & \\text{Ensemble}\\\\\n",
        "\\hline\n",
        "\\text{REINFORCE} & -45.93956015666633 & 80.70038810024803 & -27.702749402440677\\\\\n",
        "\\text{MK-SVPG} & 97.7318679805551 & 247.79730205915243 & 241.0325609803155\\\\\n",
        "\\text{SVPG} & 182.78145238287806 & 250.50197375790623 & 231.4279477060706\n",
        "\\end{array}\n"
      ],
      "metadata": {
        "id": "HOGmAaOh03Ha"
      }
    },
    {
      "cell_type": "markdown",
      "source": [
        "### REINFORCE"
      ],
      "metadata": {
        "id": "IN2LhMjPz8yS"
      }
    },
    {
      "cell_type": "code",
      "source": [
        "ENV_NAME = \"LunarLander-v2\"\n",
        "N_PARTICLES = 16\n",
        "MAX_EPISODES = 500\n",
        "MAX_STEPS = 1000\n",
        "LEARNING_RATE = 1e-3\n",
        "N_ROLLOUTS = 10\n",
        "GAMMA = 0.99\n",
        "\n",
        "N_HIDDEN = 128\n",
        "\n",
        "reinforce = REINFORCE(gamma=GAMMA, gym_env_name=ENV_NAME, n_particles = N_PARTICLES,\n",
        "                      max_episodes=MAX_EPISODES, max_steps=MAX_STEPS,\n",
        "                      learning_rate=LEARNING_RATE, num_rollouts=N_ROLLOUTS)\n",
        "reinforce_rewards = reinforce.train()"
      ],
      "metadata": {
        "id": "Cj3CMaow0At1"
      },
      "execution_count": null,
      "outputs": []
    },
    {
      "cell_type": "code",
      "source": [
        "import pickle\n",
        "import os\n",
        "save_path = \"/content/drive/MyDrive/MSc MLAI/Research/temp\"\n",
        "with open(os.path.join(save_path, \"reinforce_lunar.pkl\"), \"wb\") as file:\n",
        "    pickle.dump(reinforce_rewards, file)"
      ],
      "metadata": {
        "id": "CF8rYylC0wa8"
      },
      "execution_count": null,
      "outputs": []
    },
    {
      "cell_type": "code",
      "source": [
        "EVAL_EPISODES = 100\n",
        "agent_rewards = reinforce.evaluate_policies(EVAL_EPISODES, MAX_STEPS)\n",
        "print(agent_rewards)\n",
        "print(np.mean(agent_rewards))"
      ],
      "metadata": {
        "id": "hAjm7Ql10yJn"
      },
      "execution_count": null,
      "outputs": []
    },
    {
      "cell_type": "code",
      "source": [
        "reinforce.best_policy.evaluate_policy(env_name=ENV_NAME, n_eval_episodes=EVAL_EPISODES, max_steps=MAX_STEPS)"
      ],
      "metadata": {
        "id": "DsXYYxxH0zub"
      },
      "execution_count": null,
      "outputs": []
    },
    {
      "cell_type": "code",
      "source": [
        "ep_rewards = reinforce.evaluate_ensemble_policy(eval_episodes=EVAL_EPISODES)\n",
        "print(np.mean(ep_rewards))"
      ],
      "metadata": {
        "id": "1tGjc00n01Ac"
      },
      "execution_count": null,
      "outputs": []
    },
    {
      "cell_type": "markdown",
      "source": [
        "### SVPG"
      ],
      "metadata": {
        "id": "fCBI6DyX0Hb3"
      }
    },
    {
      "cell_type": "code",
      "source": [
        "ENV_NAME = \"LunarLander-v2\"\n",
        "N_PARTICLES = 16\n",
        "MAX_EPISODES = 500\n",
        "MAX_STEPS = 1000\n",
        "LEARNING_RATE = 1e-3\n",
        "N_ROLLOUTS = 10\n",
        "GAMMA = 0.99\n",
        "ALPHA = 10\n",
        "N_HIDDEN = 128\n",
        "DECAY = 1 - 25 / MAX_EPISODES\n",
        "\n",
        "svpg = SVPG_REINFORCE(gamma=GAMMA, alpha=ALPHA, n_particles=N_PARTICLES, gym_env_name=ENV_NAME, n_hidden=N_HIDDEN,\n",
        "                        learning_rate=LEARNING_RATE, max_episodes=MAX_EPISODES, max_steps=MAX_STEPS, decay=DECAY, num_rollouts=N_ROLLOUTS)\n",
        "\n",
        "svpg_rewards = svpg.train()"
      ],
      "metadata": {
        "id": "y2eJobuE0KhR"
      },
      "execution_count": null,
      "outputs": []
    },
    {
      "cell_type": "code",
      "source": [
        "import pickle\n",
        "import os\n",
        "save_path = \"/content/drive/MyDrive/MSc MLAI/Research/temp\"\n",
        "with open(os.path.join(save_path, \"svpg_lunar.pkl\"), \"wb\") as file:\n",
        "    pickle.dump(svpg_rewards, file)\n",
        "    # temp = pickle.load(file)"
      ],
      "metadata": {
        "id": "XQf5wFDD0Pzt"
      },
      "execution_count": null,
      "outputs": []
    },
    {
      "cell_type": "code",
      "source": [
        "EVAL_EPISODES = 100\n",
        "agent_rewards = svpg.evaluate_policies(n_eval_episodes=EVAL_EPISODES, max_steps=MAX_STEPS)\n",
        "print(agent_rewards)\n",
        "print(np.mean(agent_rewards))"
      ],
      "metadata": {
        "id": "jQc8y4Dm0RlQ"
      },
      "execution_count": null,
      "outputs": []
    },
    {
      "cell_type": "code",
      "source": [
        "svpg.best_policy.evaluate_policy(env_name=ENV_NAME, n_eval_episodes=EVAL_EPISODES, max_steps=MAX_STEPS)"
      ],
      "metadata": {
        "id": "n8AB_Bo40TjB"
      },
      "execution_count": null,
      "outputs": []
    },
    {
      "cell_type": "code",
      "source": [
        "ep_rewards = svpg.evaluate_ensemble_policy(eval_episodes=100)\n",
        "print(np.mean(ep_rewards))"
      ],
      "metadata": {
        "id": "huTy76VY0VB0"
      },
      "execution_count": null,
      "outputs": []
    },
    {
      "cell_type": "markdown",
      "source": [
        "### MK-SVPG"
      ],
      "metadata": {
        "id": "SqlzXghe0JHD"
      }
    },
    {
      "cell_type": "code",
      "source": [
        "ENV_NAME = \"LunarLander-v2\"\n",
        "N_PARTICLES = 16\n",
        "MAX_EPISODES = 500\n",
        "MAX_STEPS = 1000\n",
        "LEARNING_RATE = 1e-3\n",
        "# LEARNING_RATE = 1e-2\n",
        "N_ROLLOUTS = 10\n",
        "GAMMA = 0.99\n",
        "ALPHA = 10\n",
        "N_HIDDEN = 128\n",
        "DECAY = 1 - 25 / MAX_EPISODES\n",
        "\n",
        "B_SCALES = [0.1, 0.3, 0.5, 0.7, 1.0, 1.3, 1.5, 1.7, 2.0, 2.5, 3.0, 4.0, 5.0]\n",
        "\n",
        "mk_svpg = MK_SVPG_REINFORCE(gamma=GAMMA, alpha=ALPHA, n_particles=N_PARTICLES, gym_env_name=ENV_NAME, n_hidden=N_HIDDEN,\n",
        "                            learning_rate=LEARNING_RATE, max_episodes=MAX_EPISODES, max_steps=MAX_STEPS,\n",
        "                            bandwidth_scales=B_SCALES, num_rollouts=N_ROLLOUTS, decay=DECAY)\n",
        "\n",
        "mk_svpg_rewards = mk_svpg.train()"
      ],
      "metadata": {
        "colab": {
          "base_uri": "https://localhost:8080/"
        },
        "id": "NCtSDXI6dTmj",
        "outputId": "9bf34dfe-41df-44ce-8cff-00b11863bd9d"
      },
      "execution_count": null,
      "outputs": [
        {
          "output_type": "stream",
          "name": "stderr",
          "text": [
            "100%|██████████| 500/500 [11:24:20<00:00, 82.12s/it] \n"
          ]
        }
      ]
    },
    {
      "cell_type": "code",
      "source": [
        "import pickle\n",
        "import os\n",
        "save_path = \"/content/drive/MyDrive/MSc MLAI/Research/temp\"\n",
        "with open(os.path.join(save_path, \"mk_svpg_lunar.pkl\"), \"wb\") as file:\n",
        "    pickle.dump(mk_svpg_rewards, file)"
      ],
      "metadata": {
        "id": "O4XMQr4PQjc6"
      },
      "execution_count": null,
      "outputs": []
    },
    {
      "cell_type": "code",
      "source": [
        "with open(\"/content/drive/MyDrive/MSc MLAI/Research/temp/mk_svpg_lunar.pkl\", \"rb\") as file:\n",
        "    temp = pickle.load(file)"
      ],
      "metadata": {
        "id": "E2WOLFeMI_tQ"
      },
      "execution_count": null,
      "outputs": []
    },
    {
      "cell_type": "code",
      "source": [
        "plt.plot(temp)"
      ],
      "metadata": {
        "colab": {
          "base_uri": "https://localhost:8080/",
          "height": 447
        },
        "id": "XaKrK7H_JRgc",
        "outputId": "57a7b903-0313-427c-f578-841251a23de9"
      },
      "execution_count": null,
      "outputs": [
        {
          "output_type": "execute_result",
          "data": {
            "text/plain": [
              "[<matplotlib.lines.Line2D at 0x7a09f5263550>]"
            ]
          },
          "metadata": {},
          "execution_count": 21
        },
        {
          "output_type": "display_data",
          "data": {
            "text/plain": [
              "<Figure size 640x480 with 1 Axes>"
            ],
            "image/png": "[encoded data removed]"
          },
          "metadata": {}
        }
      ]
    },
    {
      "cell_type": "code",
      "source": [
        "plt.plot(mk_svpg_rewards)"
      ],
      "metadata": {
        "colab": {
          "base_uri": "https://localhost:8080/",
          "height": 447
        },
        "id": "5ifdVIHrhuxy",
        "outputId": "bc454584-25cb-4370-fcee-4029e69de8cd"
      },
      "execution_count": null,
      "outputs": [
        {
          "output_type": "execute_result",
          "data": {
            "text/plain": [
              "[<matplotlib.lines.Line2D at 0x7a09f8b9ad70>]"
            ]
          },
          "metadata": {},
          "execution_count": 7
        },
        {
          "output_type": "display_data",
          "data": {
            "text/plain": [
              "<Figure size 640x480 with 1 Axes>"
            ],
            "image/png": "[encoded data removed]"
          },
          "metadata": {}
        }
      ]
    },
    {
      "cell_type": "code",
      "source": [
        "EVAL_EPISODES = 100\n",
        "agent_rewards = mk_svpg.evaluate_policies(EVAL_EPISODES, MAX_STEPS)\n",
        "print(agent_rewards)\n",
        "print(np.mean(agent_rewards))"
      ],
      "metadata": {
        "colab": {
          "base_uri": "https://localhost:8080/"
        },
        "id": "IPyIXm_eh-O0",
        "outputId": "0fc51b22-1741-4460-d540-d8de1e0fa371"
      },
      "execution_count": null,
      "outputs": [
        {
          "output_type": "stream",
          "name": "stderr",
          "text": [
            "100%|██████████| 16/16 [05:26<00:00, 20.41s/it]"
          ]
        },
        {
          "output_type": "stream",
          "name": "stdout",
          "text": [
            "[144.5860396142797, 95.63144495191007, 131.7137766954204, 100.55264985040888, 192.60798870597867, 105.27037488449012, 156.31580140092322, -76.47832513361935, -33.221229576550485, -37.00186543360398, 93.23907544984526, 167.49831602917584, 239.94185498266043, 91.2032509428022, 7.299810257881091, 184.55092406687947]\n",
            "97.7318679805551\n"
          ]
        },
        {
          "output_type": "stream",
          "name": "stderr",
          "text": [
            "\n"
          ]
        }
      ]
    },
    {
      "cell_type": "code",
      "source": [
        "mk_svpg.best_policy.evaluate_policy(env_name=ENV_NAME, n_eval_episodes=100, max_steps=MAX_STEPS)"
      ],
      "metadata": {
        "colab": {
          "base_uri": "https://localhost:8080/"
        },
        "id": "2XOp8eLhiMIC",
        "outputId": "23752724-521a-4b33-99df-0017fac87b27"
      },
      "execution_count": null,
      "outputs": [
        {
          "output_type": "stream",
          "name": "stderr",
          "text": [
            "100%|██████████| 100/100 [00:10<00:00,  9.41it/s]\n"
          ]
        },
        {
          "output_type": "execute_result",
          "data": {
            "text/plain": [
              "247.79730205915243"
            ]
          },
          "metadata": {},
          "execution_count": 9
        }
      ]
    },
    {
      "cell_type": "code",
      "source": [
        "ep_rewards = mk_svpg.evaluate_ensemble_policy(eval_episodes=100)\n",
        "np.mean(ep_rewards)"
      ],
      "metadata": {
        "id": "OHoLqfrhiNeg",
        "colab": {
          "base_uri": "https://localhost:8080/"
        },
        "outputId": "a0bf2640-e1fc-4716-8ede-9281d7e9f129"
      },
      "execution_count": null,
      "outputs": [
        {
          "output_type": "stream",
          "name": "stderr",
          "text": [
            "100%|██████████| 100/100 [02:36<00:00,  1.57s/it]\n"
          ]
        },
        {
          "output_type": "execute_result",
          "data": {
            "text/plain": [
              "241.0325609803155"
            ]
          },
          "metadata": {},
          "execution_count": 10
        }
      ]
    },
    {
      "cell_type": "code",
      "source": [
        "save_path = \"/content/drive/MyDrive/MSc MLAI/Research/PROJECT/SVPG policies/LunarLander/mksvpg\"\n",
        "for i, policy in enumerate(mk_svpg.particles):\n",
        "    torch.save(policy.policy.state_dict(), os.path.join(save_path, f\"mk_svpg_p{i}.pt\"))"
      ],
      "metadata": {
        "id": "uD9-BDhHH1tV"
      },
      "execution_count": null,
      "outputs": []
    }
  ]
}