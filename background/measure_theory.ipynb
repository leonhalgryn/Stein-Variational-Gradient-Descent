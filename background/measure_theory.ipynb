{
 "cells": [
  {
   "cell_type": "markdown",
   "metadata": {},
   "source": [
    "# Background on Measure Theory"
   ]
  },
  {
   "cell_type": "markdown",
   "metadata": {},
   "source": [
    "This notebook provides an overview and recapitulation of important concepts in measure theory needed to understand Stein Variational Gradient Descent (SVGD). The majority of the contents in this notebook are taken directly from \\[[1](#References)\\] and \\[[2](#References)\\].\n"
   ]
  },
  {
   "cell_type": "markdown",
   "metadata": {},
   "source": [
    "## 1. Measures and Measure Spaces"
   ]
  },
  {
   "cell_type": "markdown",
   "metadata": {},
   "source": [
    "In this section, we discuss the foundation of measure theory: measures and measure spaces. We begin by providing some context for modelling random experiments, such as flipping a coin, or tossing a dice. We will be using these two examples as running examples throughout this discussion. For the remainder of this section, we denote by $\\Omega$ the sample space - that is, the set of all possible outcomes of the experiment. In addition, we require the notion of a $\\sigma$-algebra $\\mathcal{X}$ (formally defined below), which represents a family of 'decidable' events. Intuitively, a $\\sigma$-algebra represents a collection of subsets of the sample space $\\Omega$ that can be assigned a measure; in the context of probability theory, a $\\sigma$-algebra contains subsets of $\\Omega$ (known as events) for which we can decide whether or not the event occured. Lastly, we require the notion of a measure (which we formally define below), which is used to assign a positive, real-valued number to each event in the $\\sigma$-algebra (intuitively, a measure is used is to measure the 'size' of elements of the $\\sigma$-algebra)."
   ]
  },
  {
   "cell_type": "markdown",
   "metadata": {},
   "source": [
    "$\\underline{\\textbf{Definition 1.1}}$: (algebra and $\\sigma$-algebra)\n",
    "\n",
    "Let $\\Omega$ be a set. A collection $\\mathcal{A}$ of subsets of $\\Omega$ is called an algebra on $\\Omega$ if:\n",
    "\n",
    "1. $\\emptyset \\in \\mathcal{A}$, where $\\emptyset$ denotes the empty set (often referred to as the null event in probability theory).\n",
    "2. $A \\in \\mathcal{A} \\implies A^c \\in \\mathcal{A}$, where $A^c = \\Omega \\setminus A$. I.e., an algebra is closed under complementation.\n",
    "3. $A_1, A_2 \\in \\mathcal{A} \\implies A_1 \\cup A_2 \\in \\mathcal{A}$. I.e., an algebra is closed under pairwise union.\n",
    "\n",
    "A collection $\\mathcal{X}$ of subsets of $\\Omega$ is called a $\\sigma$-algebra if it satisfies 1 and 2 above, and also satistfies\n",
    "\n",
    "3. If $X_n \\in \\mathcal{X} \\forall n \\in \\mathbb{N}$, then $\\cup_{n}X_n \\in \\mathcal{X}$. I.e., a $\\sigma$-algebra is closed under $\\textit{countable}$ union.\n",
    "\n",
    "$\\textbf{Remark}$: From the above properties of an algebra or $\\sigma$-algebra, we can also show that an algebra (respectively $\\sigma$-algebra) is closed under finite (respectively countable) intersection.\n",
    "\n",
    "To gain intuition for the properties of a $\\sigma$-algebra in the probabilistic framework, consider the coin toss example. If no coin was tossed, then we can 'decide' that the null event occurred (property 1); If the coin landed on heads, then we can 'decide' that the coin did not land on tails (property 2); if we tossed a coin, then we can 'decide' that either heads or tails occured, that is, we know that the outcome of the coin toss must be in the set $\\{\\text{heads}, \\text{tails}\\}$ (property 3)."
   ]
  },
  {
   "cell_type": "markdown",
   "metadata": {},
   "source": [
    "$\\textbf{Example 1.2}$: (Example $\\sigma$-algebra)\n",
    "\n",
    "As a simple example, consider the random experiment of tossing a coin. Here, the sample space is $\\Omega = \\{\\text{H}, \\text{T}\\}$, corresponding to the outcomes 'heads' and 'tails'. One possible $\\sigma$-algebra for this experiment is given by $\\mathcal{X} = \\{\\emptyset, \\text{H}, \\text{T}, \\{\\text{H}, \\text{T}\\}\\}$. In fact, this $\\sigma$-algebra corresponds to the largest $\\sigma$-algebra on $\\Omega$ given by $\\mathcal{X} = \\mathcal{P}(\\Omega)$, the power set of $\\Omega$."
   ]
  },
  {
   "cell_type": "markdown",
   "metadata": {},
   "source": [
    "$\\underline{\\textbf{Definition 1.3}}$: (Measure)\n",
    "\n",
    "Let $\\mathcal{X}$ be a $\\sigma$-algebra on a set $\\Omega$. A function $\\mu: \\mathcal{X} \\rightarrow \\mathbb{R}$ is called a measure if the following holds:\n",
    "\n",
    "1. $0 \\le \\mu(X) \\le \\infty \\forall X \\in \\mathcal{X}$. I.e., a measure is non-negative\n",
    "2. $\\mu(\\emptyset) = 0$. I.e., the empty set has measure zero.\n",
    "3. If $X_1, X_2, \\dots \\in \\mathcal{X}$ is a countable sequence of pairwise disjoint sets (i.e., $X_i \\cap X_j = \\emptyset \\forall i\\not=j$), then:\n",
    "\n",
    "$$\\mu \\left(\\bigcup_n X_n \\right) = \\sum_n \\mu(X_n)$$\n",
    "\n",
    "If, in addition to the above properties, we also have that $0 \\le \\mu(X) \\le 1 \\hspace{0.1cm} \\forall X \\in \\mathcal{X}$ and $\\mu(\\Omega) = 1$, then the measure $\\mu$ is called a probability measure."
   ]
  },
  {
   "cell_type": "markdown",
   "metadata": {},
   "source": [
    "$\\underline{\\textbf{Definition 1.4}}$: (Measure space)\n",
    "\n",
    "If $\\mathcal{X}$ denotes a $\\sigma$-algebra on sample space $\\Omega$, then the pair $(\\Omega, \\mathcal{X})$ is called a $\\textit{measurable space}$, and the elements of the $\\sigma$-algebra $\\mathcal{X}$ are called measurable sets. If, in addition, $\\mu$ is a measure on $\\mathcal{X}$, then the triplet $(\\Omega, \\mathcal{X}, \\mu)$ is called a $\\textit{measure space}$. If $\\mu$ is a $\\textit{probability measure}$, then the triplet $(\\Omega, \\mathcal{X}, \\mu)$ is called a $\\textit{probability space}$, and the elements of the $\\sigma$-algebra $\\mathcal{X}$ are called events."
   ]
  },
  {
   "cell_type": "markdown",
   "metadata": {},
   "source": [
    "$\\underline{\\textbf{Proposition 1.5}}$: (Additivity properties of measures)\n",
    "\n",
    "Let $(\\Omega, \\mathcal{X}, \\mu)$ be a measure space, and let $A, B, X_1, X_2, \\dots \\in \\mathcal{X}$. Then the measure $\\mu$ has the following additive properties:\n",
    "\n",
    "1. Monotonicity: If $A \\subseteq B$ then $\\mu(A) \\le \\mu(B)$ \n",
    "2. If $A \\subseteq B$ and $\\mu(A) \\lt \\infty$ then $\\mu(B - A) = \\mu(B) - \\mu(A)$\n",
    "3. $\\mu(A \\cup B) = \\mu(A) + \\mu(B) - \\mu(A \\cap B)$\n",
    "4. Countable subadditivity: $\\mu(\\cup_n X_n) \\le \\sum_n \\mu(X_n)$"
   ]
  },
  {
   "cell_type": "markdown",
   "metadata": {},
   "source": [
    "$\\underline{\\textbf{Definition 1.6}}$\n",
    "\n",
    "Let $(\\Omega, \\mathcal{X}, \\mu)$ be a measure space and let $X \\subseteq \\Omega$.\n",
    "\n",
    "1. We say the set $X$ is $\\mu$-null if $\\exists Y  \\in \\mathcal{X}$ such that $X \\subseteq Y$ and $\\mu(Y) = 0$\n",
    "2. We say that a statement $\\psi$ holds $\\mu$-$\\textit{almost everywhere}$ (or $\\mu$-$\\textit{almost surely}$ in the context of probability spaces) if the set $\\{\\omega \\in \\Omega\\}$ where $\\psi$ does not hold is $\\mu$-null. We will use the abbreviations $\\mu$-$\\textit{a.e.}$ and $\\mu$-$\\textit{a.s.}$ for $\\mu$-$\\textit{almost everywhere}$ and $\\mu$-$\\textit{almost surely}$ respectively.\n",
    "\n",
    "In the probabilistic framework, we say that a statement holds $\\mu$-almost surely if the statement holds for almost all outcomes, except for a subset of outcomes with probability (measure) zero."
   ]
  },
  {
   "cell_type": "markdown",
   "metadata": {},
   "source": [
    "$\\underline{\\textbf{Definition 1.7}}$: (Complete measure space)\n",
    "\n",
    "Let $(\\Omega, \\mathcal{X}, \\mu)$ be a measure space. We say that the measure space is complete if every subset of every $\\mu$-null set in $\\mathcal{X}$ is measurable and has measure zero. That is, $\\forall X \\in \\mathcal{X}$ such that $\\mu(X) = 0$, we have that $\\tilde{X} \\in \\mathcal{X}$ and $\\mu(\\tilde{X}) = 0 \\forall \\tilde{X} \\subseteq X$.\n",
    "\n",
    "$\\textbf{Remark}$: A measure space $(\\Omega, \\mathcal{X}, \\mu)$ can be made complete. This is achieved by extending $\\mathcal{X}$ to include all subsets of every $\\mu$-null set and assigning them a measure zero. The resulting $\\sigma$-algebra is denoted by $\\bar{\\mathcal{X}}$ and is called the completion of $\\mathcal{X}$ with respect to $\\mu$. The resulting measure space $(\\Omega, \\bar{\\mathcal{X}}, \\mu)$ is then a complete measure space.\n",
    "\n",
    "To gain some intuition for the notion of a complete measure space, let $(\\Omega, \\mathcal{X}, \\mu)$ be a measure space and consider a subset $A \\subset B$ of a measurable set $B \\in \\mathcal{X}$ which has measure zero (i.e., $\\mu(B)$ = 0). Furthermore, suppose that $A \\not \\in \\mathcal{X}$. Intuitively, one would expect that $A$ also has measure zero ($\\mu(A) = 0$), however since $A \\not\\in \\mathcal{X}$, the set $A$ does not have a measure. Adding all such subsets of measurable sets with measure zero completes the measure space (in a sense, fills the gaps in the measure space)."
   ]
  },
  {
   "cell_type": "markdown",
   "metadata": {},
   "source": [
    "$\\underline{\\textbf{Definition 1.8}}$: (Generated $\\sigma$-algebra)\n",
    "\n",
    "Let $\\Omega$ be a set, and let $\\mathcal{A}$ be a collection of subsets of $\\Omega$ ($\\mathcal{A}$ not necessarily a $\\sigma$-algebra). Then there exists a unique smallest $\\sigma$-algebra $\\mathcal{X}$ that contains $\\mathcal{A}$ (i.e., $\\mathcal{A} \\subseteq \\mathcal{X}$). $\\mathcal{X}$ is called the $\\sigma$-algebra generated by $\\mathcal{A}$ and is denoted by $\\mathcal{X} = \\sigma(\\mathcal{A})$.\n",
    "\n",
    "\n",
    "To give some intuition for generated $\\sigma$-algebras in the probabilistic framework, consider the coin toss example and suppose we observed a 'heads' on some toss of the coin, and let $\\mathcal{A} = \\{\\text{H}\\}$. Since we know that 'heads' occured, we also know that 'tails' did not occur. Here we have that $\\mathcal{X} = \\sigma(\\mathcal{A}) = \\{\\text{H}, \\text{T}\\}$. That is, the $\\sigma$-algebra generated by $\\mathcal{A}$ consists of all events that can be decided (or more generally, measured), given that the elements in $\\mathcal{A}$ can be decided (measured)."
   ]
  },
  {
   "cell_type": "markdown",
   "metadata": {},
   "source": [
    "$\\underline{\\textbf{Definition 1.9}}$: (Borel algebra)\n",
    "\n",
    "Let the sample space $\\Omega$ be a topological space. The Borel algebra of $\\Omega$ is defined by:\n",
    "\n",
    "$$\\mathcal{B}(\\Omega) = \\sigma(\\text{open sets of } \\Omega)$$\n",
    "\n",
    "That is, the Borel algebra is the $\\sigma$-algebra generated by open sets (or closed sets) on $\\Omega$."
   ]
  },
  {
   "cell_type": "markdown",
   "metadata": {},
   "source": [
    "## 2. Measurable Functions and Random Variables"
   ]
  },
  {
   "cell_type": "markdown",
   "metadata": {},
   "source": [
    "$\\underline{\\textbf{Definition 1.10}}$: (Measurable Function)\n",
    "\n",
    "Let $(A, \\mathcal{A})$ and $(C, \\mathcal{C})$ be measurable spaces and let $f: A \\rightarrow C$ be a map. The map $f$ is said to be $\\mathcal{A}/\\mathcal{C}$-measurable (or simply measurable if the $\\sigma$-algebras are clear from context) if and only if $f^{-1}[S] \\in \\mathcal{A} \\forall S \\in \\mathcal{C}$. That is, a function mapping between two measurable spaces is measurable if and only if all pullbacks of measurable sets are measurable. "
   ]
  },
  {
   "cell_type": "markdown",
   "metadata": {},
   "source": [
    "\n",
    "$\\underline{\\textbf{Definition 1.11}}$: (Random Variable)\n",
    "\n",
    "A random variable is defined as a measurable function $X: (\\Omega, \\mathcal{A}) \\rightarrow (\\mathbb{R}, \\mathcal{B}(\\mathbb{R}))$. Similarly, a $d$-dimensional random vector is defined as a measurable function $X: (\\Omega, \\mathcal{A}) \\rightarrow (\\mathbb{R}^d, \\mathcal{B}(\\mathbb{R}^d))$."
   ]
  },
  {
   "cell_type": "markdown",
   "metadata": {},
   "source": [
    "\n",
    "$\\underline{\\textbf{Definition 1.12}}$: (Pushforward measure)\n",
    "\n",
    "Let $(\\Omega_1, \\mathcal{X}_1, \\mu)$ be a measure space and let $(\\Omega_2, \\mathcal{X}_2)$ be a measurable space. Furthermore, let $f:(\\Omega_1, \\mathcal{X}_1, \\mu) \\rightarrow (\\Omega_2, \\mathcal{X}_2)$ be a measurable function. We can define a measure on $(\\Omega_2, \\mathcal{X}_2)$ using the measure $\\mu$ and the measurable function $f$ as:\n",
    "\n",
    "$$\\mu_{\\#}f^{-1} := \\mu(f^{-1}(X)) \\forall X \\in \\mathcal{X}_2$$\n",
    "\n",
    "which is called the pushforward measure, and we say that the measure $\\mu$ is pushed by $f$. This then yields a measure space $(\\Omega_2, \\mathcal{X}_2, \\mu_{\\#}f^{-1})$. "
   ]
  },
  {
   "cell_type": "markdown",
   "metadata": {},
   "source": [
    "\n",
    "$\\underline{\\textbf{Definition 1.13}}$: (Law of a random variable)\n",
    "\n",
    "Let $(\\Omega, \\mathcal{X}, \\mu)$ be a probability space, and let $(\\mathbb{\\bar{R}}, \\mathcal{B}(\\mathbb{\\bar{R}}))$ be a measurable space, where $\\mathbb{\\bar{R}} = \\mathbb{R}\\cup\\{-\\infty, \\infty\\}$. Furthermore, let $X: (\\Omega, \\mathcal{X}, \\mu) \\rightarrow (\\mathbb{\\bar{R}}, \\mathcal{B}(\\mathbb{\\bar{R}}))$ be a random variable. The $\\textit{law}$ of the random variable $X$ is defined as the pushforward measure $\\mu_{\\#}X^{-1}$."
   ]
  },
  {
   "cell_type": "markdown",
   "metadata": {},
   "source": [
    "# References"
   ]
  },
  {
   "cell_type": "markdown",
   "metadata": {},
   "source": [
    "\\[1\\] Ouwehand, P. (2015) 'Undergraduate Financial Mathematics', African Institute of Financial Markets and Risk Management, University of Cape Town, 2015.\n",
    "\n",
    "\\[2\\] Mehta, B. (2022) 'Stein Variational Gradient Descent', Depth First Learning, 2 March 2022. Available at: https://www.depthfirstlearning.com/2020/SVGD.\n"
   ]
  }
 ],
 "metadata": {
  "language_info": {
   "name": "python"
  }
 },
 "nbformat": 4,
 "nbformat_minor": 2
}
